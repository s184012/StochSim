{
 "cells": [
  {
   "cell_type": "markdown",
   "metadata": {},
   "source": [
    "Testinate:"
   ]
  },
  {
   "cell_type": "code",
   "execution_count": 1,
   "metadata": {},
   "outputs": [],
   "source": [
    "from src.assignment2.simulation import HospitalSimulation, PatientState, WardType, WardConfig, WardsConfigurations, HospitalConfiguration\n",
    "from scipy import stats\n",
    "import numpy as np\n",
    "import seaborn as sns"
   ]
  },
  {
   "cell_type": "code",
   "execution_count": 2,
   "metadata": {},
   "outputs": [],
   "source": [
    "\n",
    "P = np.zeros([6,6])\n",
    "P[0, :] = [0.0, 0.05, 0.10, 0.05, 0.80, 0.0]\n",
    "P[1, :] = [0.20, 0.0, 0.50, 0.15, 0.15, 0.0]\n",
    "P[2, :] = [0.30, 0.20, 0.0, 0.20, 0.30, 0.0]\n",
    "P[3, :] = [0.35, 0.30, 0.05, 0.0, 0.30, 0.0]\n",
    "P[4, :] = [0.20, 0.10, 0.60, 0.10, 0.0, 0.0] \n",
    "P[5, :] = [0.20, 0.20, 0.20, 0.20, 0.20, 0.0]\n",
    "\n",
    "arr_Times = [14.5, 11.0, 8.0, 6.5, 5.0, 13.0]\n",
    "\n",
    "len_stay = [2.9, 4.0, 4.5, 1.4, 3.9, 2.2]\n",
    "\n",
    "urgency = [7, 5, 2, 10, 5, 0]\n",
    "\n",
    "bed_capacity = [55, 40, 30, 20, 20, 0]"
   ]
  },
  {
   "cell_type": "code",
   "execution_count": 4,
   "metadata": {},
   "outputs": [
    {
     "data": {
      "text/plain": [
       "[0.0, 0.05, 0.1, 0.05, 0.8, 0.0]"
      ]
     },
     "execution_count": 4,
     "metadata": {},
     "output_type": "execute_result"
    }
   ],
   "source": [
    "list(P[0, :])"
   ]
  },
  {
   "cell_type": "code",
   "execution_count": 5,
   "metadata": {},
   "outputs": [],
   "source": [
    "configs = [\n",
    "    WardConfig(\n",
    "        bed_capacity=55, \n",
    "        urgency=7, \n",
    "        mean_arrival_time=1/14.5, \n",
    "        mean_stay_time=2.9),\n",
    "    WardConfig(40, 5, 1/11, 4),\n",
    "    WardConfig(30, 2, 1/8, 4.5),\n",
    "    WardConfig(20, 10, 1/6.5, 1.4),\n",
    "    WardConfig(20, 5, 1/5, 3.9),\n",
    "    WardConfig(0, 0, 1/13, 2.2)\n",
    "]\n",
    "std_configs = WardsConfigurations(configs)\n",
    "\n",
    "std_switch = {\n",
    "    WardType.A: list(P[0, :]),\n",
    "    WardType.B: list(P[1, :]),\n",
    "    WardType.C: list(P[2, :]),\n",
    "    WardType.D: list(P[3, :]),\n",
    "    WardType.E: list(P[4, :]),\n",
    "    WardType.F: list(P[5, :])\n",
    "}\n",
    "\n",
    "def mean_exp_dist(mean_time):\n",
    "    return stats.expon.rvs(scale=mean_time)\n",
    "\n",
    "sim_config = HospitalConfiguration(std_configs, std_switch, mean_exp_dist, mean_exp_dist)"
   ]
  },
  {
   "cell_type": "code",
   "execution_count": 3,
   "metadata": {},
   "outputs": [
    {
     "name": "stdout",
     "output_type": "stream",
     "text": [
      "365\r"
     ]
    },
    {
     "data": {
      "text/plain": [
       "<AxesSubplot:ylabel='Count'>"
      ]
     },
     "execution_count": 3,
     "metadata": {},
     "output_type": "execute_result"
    },
    {
     "data": {
      "image/png": "[encoded data removed]",
      "text/plain": [
       "<Figure size 432x288 with 1 Axes>"
      ]
     },
     "metadata": {
      "needs_background": "light"
     },
     "output_type": "display_data"
    }
   ],
   "source": [
    "H_Sim = HospitalSimulation(stats.expon, stats.expon)\n"
   ]
  },
  {
   "cell_type": "code",
   "execution_count": null,
   "metadata": {},
   "outputs": [],
   "source": [
    "N = 10\n",
    "penalty = np.zeros(N)\n",
    "\n",
    "for i in range(N):\n",
    "    H_Sim.simulate_year()\n",
    "    penalty[i] = H_Sim.total_penalty\n",
    "    treated_A = H_Sim.wards[WardType.A].number_of_processed_patients\n",
    "    treated_B = H_Sim.wards[WardType.B].number_of_processed_patients\n",
    "    treated_C = H_Sim.wards[WardType.C].number_of_processed_patients\n",
    "    treated_D = H_Sim.wards[WardType.D].number_of_processed_patients\n",
    "    treated_E = H_Sim.wards[WardType.E].number_of_processed_patients\n",
    "    \n"
   ]
  },
  {
   "cell_type": "code",
   "execution_count": 8,
   "metadata": {},
   "outputs": [
    {
     "data": {
      "text/plain": [
       "(9008.258942664468, 9460.141057335533)"
      ]
     },
     "execution_count": 8,
     "metadata": {},
     "output_type": "execute_result"
    },
    {
     "data": {
      "image/png": "[encoded data removed]",
      "text/plain": [
       "<Figure size 432x288 with 1 Axes>"
      ]
     },
     "metadata": {
      "needs_background": "light"
     },
     "output_type": "display_data"
    }
   ],
   "source": [
    "\n",
    "sns.histplot(penalty, bins = 10)\n",
    "mu, sig = np.mean(penalty), np.std(penalty)\n",
    "stats.norm.interval(0.95, loc=mu, scale=sig/np.sqrt(N))"
   ]
  }
 ],
 "metadata": {
  "kernelspec": {
   "display_name": "Python 3.8.8 ('base')",
   "language": "python",
   "name": "python3"
  },
  "language_info": {
   "codemirror_mode": {
    "name": "ipython",
    "version": 3
   },
   "file_extension": ".py",
   "mimetype": "text/x-python",
   "name": "python",
   "nbconvert_exporter": "python",
   "pygments_lexer": "ipython3",
   "version": "3.8.8"
  },
  "orig_nbformat": 4,
  "vscode": {
   "interpreter": {
    "hash": "a71a9e4fb054fff428071484f7faa898cb9ecb31a518fe88e3463da9af879578"
   }
  }
 },
 "nbformat": 4,
 "nbformat_minor": 2
}
