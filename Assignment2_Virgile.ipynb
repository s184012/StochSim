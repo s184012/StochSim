{
 "cells": [
  {
   "cell_type": "markdown",
   "metadata": {},
   "source": [
    "Testinate:"
   ]
  },
  {
   "cell_type": "code",
   "execution_count": 20,
   "metadata": {},
   "outputs": [],
   "source": [
    "from src.assignment2.simulation import HospitalSimulation, PatientState, WardType, WardConfig, WardsConfigurations, HospitalConfiguration, hist_plot, hist_comp_plot, barplot\n",
    "from scipy import stats\n",
    "import numpy as np\n",
    "import seaborn as sns\n",
    "import pickle"
   ]
  },
  {
   "cell_type": "code",
   "execution_count": 4,
   "metadata": {},
   "outputs": [],
   "source": [
    "\n",
    "P = np.zeros([6,6])\n",
    "P[0, :] = [0.0, 0.05, 0.10, 0.05, 0.80, 0.0]\n",
    "P[1, :] = [0.20, 0.0, 0.50, 0.15, 0.15, 0.0]\n",
    "P[2, :] = [0.30, 0.20, 0.0, 0.20, 0.30, 0.0]\n",
    "P[3, :] = [0.35, 0.30, 0.05, 0.0, 0.30, 0.0]\n",
    "P[4, :] = [0.20, 0.10, 0.60, 0.10, 0.0, 0.0] \n",
    "P[5, :] = [0.20, 0.20, 0.20, 0.20, 0.20, 0.0]\n",
    "\n",
    "arr_Times = [14.5, 11.0, 8.0, 6.5, 5.0, 13.0]\n",
    "\n",
    "len_stay = [2.9, 4.0, 4.5, 1.4, 3.9, 2.2]\n",
    "\n",
    "urgency = [7, 5, 2, 10, 5, 0]\n",
    "\n",
    "bed_capacity = [55, 40, 30, 20, 20, 0]"
   ]
  },
  {
   "cell_type": "code",
   "execution_count": 5,
   "metadata": {},
   "outputs": [],
   "source": [
    "configs = [\n",
    "    WardConfig(\n",
    "        bed_capacity=55, \n",
    "        urgency=7, \n",
    "        mean_arrival_time=1/14.5, \n",
    "        mean_stay_time=2.9),\n",
    "    WardConfig(40, 5, 1/11, 4),\n",
    "    WardConfig(30, 2, 1/8, 4.5),\n",
    "    WardConfig(20, 10, 1/6.5, 1.4),\n",
    "    WardConfig(20, 5, 1/5, 3.9),\n",
    "    WardConfig(0, 0, 1/13, 2.2)\n",
    "]\n",
    "std_configs = WardsConfigurations(configs)\n",
    "\n",
    "std_switch = {\n",
    "    WardType.A: list(P[0, :]),\n",
    "    WardType.B: list(P[1, :]),\n",
    "    WardType.C: list(P[2, :]),\n",
    "    WardType.D: list(P[3, :]),\n",
    "    WardType.E: list(P[4, :]),\n",
    "    WardType.F: list(P[5, :])\n",
    "}\n",
    "\n",
    "def mean_exp_dist(mean_time):\n",
    "    return stats.expon.rvs(scale=mean_time)"
   ]
  },
  {
   "cell_type": "code",
   "execution_count": 6,
   "metadata": {},
   "outputs": [],
   "source": [
    "sim_config = HospitalConfiguration(std_configs, std_switch, mean_exp_dist, mean_exp_dist)\n",
    "H_Sim = HospitalSimulation(sim_config)\n",
    "N = 10"
   ]
  },
  {
   "cell_type": "code",
   "execution_count": 7,
   "metadata": {},
   "outputs": [
    {
     "name": "stdout",
     "output_type": "stream",
     "text": [
      "100/100\r"
     ]
    }
   ],
   "source": [
    "Simz0 = H_Sim.sim_multiple_without_f(n=100)"
   ]
  },
  {
   "cell_type": "code",
   "execution_count": 5,
   "metadata": {},
   "outputs": [
    {
     "name": "stdout",
     "output_type": "stream",
     "text": [
      "100/100\r"
     ]
    }
   ],
   "source": [
    "Simz1 = H_Sim.simulate_only_occupation(n=100)"
   ]
  },
  {
   "cell_type": "code",
   "execution_count": 6,
   "metadata": {},
   "outputs": [
    {
     "name": "stdout",
     "output_type": "stream",
     "text": [
      "100/100\r"
     ]
    }
   ],
   "source": [
    "Simz2 = H_Sim.simulate_already_stolen(n=100)"
   ]
  },
  {
   "cell_type": "code",
   "execution_count": 6,
   "metadata": {},
   "outputs": [
    {
     "name": "stderr",
     "output_type": "stream",
     "text": [
      "C:\\Users\\lenovo\\AppData\\Roaming\\Python\\Python38\\site-packages\\scipy\\stats\\_distn_infrastructure.py:2162: RuntimeWarning: invalid value encountered in multiply\n",
      "  lower_bound = _a * scale + loc\n",
      "C:\\Users\\lenovo\\AppData\\Roaming\\Python\\Python38\\site-packages\\scipy\\stats\\_distn_infrastructure.py:2163: RuntimeWarning: invalid value encountered in multiply\n",
      "  upper_bound = _b * scale + loc\n"
     ]
    }
   ],
   "source": [
    "exp_penDF = Simz0.expected_penalty()\n",
    "expected_penalty = exp_penDF['mean']"
   ]
  },
  {
   "cell_type": "code",
   "execution_count": 7,
   "metadata": {},
   "outputs": [
    {
     "name": "stdout",
     "output_type": "stream",
     "text": [
      "100/100\r"
     ]
    }
   ],
   "source": [
    "\n",
    "Simz3 = H_Sim.simulate_expected_penalty(n=100, expected_penalty=expected_penalty)"
   ]
  },
  {
   "cell_type": "code",
   "execution_count": 14,
   "metadata": {},
   "outputs": [
    {
     "name": "stdout",
     "output_type": "stream",
     "text": [
      "100/100\r"
     ]
    }
   ],
   "source": [
    "simOcc_Penalty = H_Sim.simulate_occupation_and_penalty(n=100)"
   ]
  },
  {
   "cell_type": "code",
   "execution_count": 25,
   "metadata": {},
   "outputs": [
    {
     "data": {
      "image/png": "[encoded data removed]",
      "text/plain": [
       "<Figure size 432x288 with 1 Axes>"
      ]
     },
     "metadata": {},
     "output_type": "display_data"
    }
   ],
   "source": [
    "barplot(simOcc_Penalty.expected_relocations(), label='Expected Relocations')"
   ]
  },
  {
   "cell_type": "code",
   "execution_count": 24,
   "metadata": {},
   "outputs": [
    {
     "data": {
      "image/png": "[encoded data removed]",
      "text/plain": [
       "<Figure size 432x288 with 1 Axes>"
      ]
     },
     "metadata": {},
     "output_type": "display_data"
    }
   ],
   "source": [
    "ward_no_f = [ward for ward in WardType if ward is not WardType.F]\n",
    "\n",
    "a = simOcc_Penalty.expected_penalty(ward_no_f).copy()\n",
    "\n",
    "barplot(a, wards=ward_no_f, label='Expected Penalty')"
   ]
  },
  {
   "cell_type": "code",
   "execution_count": 18,
   "metadata": {},
   "outputs": [],
   "source": [
    "Only_Occ_expctPen = simOnlyOcc.expected_total_penalty()\n",
    "Alrd_Takn_expctPen = simAlreadyTaken.expected_total_penalty()\n",
    "Exp_Pen_expctPen = simExpectedPenalty.expected_total_penalty()\n",
    "Occ_Penalty_expctPen = simOcc_Penalty.expected_total_penalty()\n",
    "initial_expctPen = simInitial.expected_total_penalty()\n"
   ]
  },
  {
   "cell_type": "code",
   "execution_count": 11,
   "metadata": {},
   "outputs": [
    {
     "data": {
      "text/plain": [
       "(38990.97, (38025.812998539346, 39956.127001460656))"
      ]
     },
     "execution_count": 11,
     "metadata": {},
     "output_type": "execute_result"
    }
   ],
   "source": [
    "Only_Occ_expctPen[1:]"
   ]
  },
  {
   "cell_type": "code",
   "execution_count": 12,
   "metadata": {},
   "outputs": [
    {
     "data": {
      "text/plain": [
       "(36102.99, (34764.64972730472, 37441.330272695275))"
      ]
     },
     "execution_count": 12,
     "metadata": {},
     "output_type": "execute_result"
    }
   ],
   "source": [
    "Alrd_Takn_expctPen[1:]"
   ]
  },
  {
   "cell_type": "code",
   "execution_count": 13,
   "metadata": {},
   "outputs": [
    {
     "data": {
      "text/plain": [
       "(48461.02, (47917.913484325785, 49004.12651567421))"
      ]
     },
     "execution_count": 13,
     "metadata": {},
     "output_type": "execute_result"
    }
   ],
   "source": [
    "Exp_Pen_expctPen[1:]"
   ]
  },
  {
   "cell_type": "code",
   "execution_count": 16,
   "metadata": {},
   "outputs": [
    {
     "data": {
      "text/plain": [
       "(31933.58, (31147.813557666075, 32719.34644233393))"
      ]
     },
     "execution_count": 16,
     "metadata": {},
     "output_type": "execute_result"
    }
   ],
   "source": [
    "Occ_Penalty_expctPen[1:]"
   ]
  },
  {
   "cell_type": "code",
   "execution_count": 19,
   "metadata": {},
   "outputs": [
    {
     "data": {
      "text/plain": [
       "(11106.41, (10991.949477877528, 11220.870522122472))"
      ]
     },
     "execution_count": 19,
     "metadata": {},
     "output_type": "execute_result"
    }
   ],
   "source": [
    "initial_expctPen[1:]"
   ]
  },
  {
   "cell_type": "code",
   "execution_count": 26,
   "metadata": {},
   "outputs": [
    {
     "name": "stderr",
     "output_type": "stream",
     "text": [
      "C:\\Users\\lenovo\\AppData\\Roaming\\Python\\Python38\\site-packages\\scipy\\stats\\_distn_infrastructure.py:2162: RuntimeWarning: invalid value encountered in multiply\n",
      "  lower_bound = _a * scale + loc\n",
      "C:\\Users\\lenovo\\AppData\\Roaming\\Python\\Python38\\site-packages\\scipy\\stats\\_distn_infrastructure.py:2163: RuntimeWarning: invalid value encountered in multiply\n",
      "  upper_bound = _b * scale + loc\n"
     ]
    }
   ],
   "source": [
    "Only_Occ_expRelo = simOnlyOcc.expected_relocations()\n",
    "Alrd_Takn_expRelo = simAlreadyTaken.expected_relocations()\n",
    "Exp_Pen_expRelo = simExpectedPenalty.expected_relocations()\n",
    "Occ_Penalty_expRelo = simOcc_Penalty.expected_relocations()\n",
    "initial_expRelo = simInitial.expected_relocations()"
   ]
  },
  {
   "cell_type": "code",
   "execution_count": 35,
   "metadata": {},
   "outputs": [],
   "source": [
    "Only_Occ_total = np.sum(simOnlyOcc.expected_relocations()['mean']) + np.sum(simOnlyOcc.expected_admissions()['mean'])\n",
    "Alrd_Takn_total = np.sum(simAlreadyTaken.expected_relocations()['mean']) + np.sum(simAlreadyTaken.expected_admissions()['mean'])\n",
    "Exp_Pen_total = np.sum(simExpectedPenalty.expected_relocations()['mean']) + np.sum(simExpectedPenalty.expected_admissions()['mean'])\n",
    "#Occ_Penalty_total = simOcc_Penalty.expected_relocations() + simOcc_Penalty.expected_admissions()\n",
    "#initial_total = np.sum(simInitial.expected_relocations()['mean']) + np.sum(simInitial.expected_admissions()['mean'])"
   ]
  },
  {
   "cell_type": "code",
   "execution_count": 38,
   "metadata": {},
   "outputs": [
    {
     "data": {
      "text/plain": [
       "0.3579456845522651"
      ]
     },
     "execution_count": 38,
     "metadata": {},
     "output_type": "execute_result"
    }
   ],
   "source": [
    "#Occ_Penalty_total = np.sum(simOcc_Penalty.expected_relocations()['mean']) + np.sum(simOcc_Penalty.expected_admissions()['mean'])\n",
    "\n",
    "np.sum(Exp_Pen_expRelo['mean'])/Exp_Pen_total"
   ]
  },
  {
   "cell_type": "code",
   "execution_count": 8,
   "metadata": {},
   "outputs": [],
   "source": [
    "with open('Simz3.pickle', 'wb') as handle:\n",
    "    pickle.dump(Simz3, handle)"
   ]
  },
  {
   "cell_type": "code",
   "execution_count": 3,
   "metadata": {},
   "outputs": [],
   "source": [
    "\n",
    "\n",
    "with open('simAlreadyTaken.pickle', 'rb') as handle:\n",
    "    simAlreadyTaken = pickle.load(handle)\n",
    "\n",
    "with open('simExpectedPenalty.pickle', 'rb') as handle:\n",
    "    simExpectedPenalty = pickle.load(handle)\n",
    "\n",
    "with open('simOnlyOcc.pickle', 'rb') as handle:\n",
    "    simOnlyOcc = pickle.load(handle)"
   ]
  },
  {
   "cell_type": "code",
   "execution_count": 17,
   "metadata": {},
   "outputs": [],
   "source": [
    "with open('simInitial.pickle', 'rb') as handle:\n",
    "    simInitial = pickle.load(handle)"
   ]
  },
  {
   "cell_type": "code",
   "execution_count": 39,
   "metadata": {},
   "outputs": [
    {
     "name": "stderr",
     "output_type": "stream",
     "text": [
      "C:\\Users\\lenovo\\AppData\\Roaming\\Python\\Python38\\site-packages\\scipy\\stats\\_distn_infrastructure.py:2162: RuntimeWarning: invalid value encountered in multiply\n",
      "  lower_bound = _a * scale + loc\n",
      "C:\\Users\\lenovo\\AppData\\Roaming\\Python\\Python38\\site-packages\\scipy\\stats\\_distn_infrastructure.py:2163: RuntimeWarning: invalid value encountered in multiply\n",
      "  upper_bound = _b * scale + loc\n"
     ]
    },
    {
     "data": {
      "image/png": "[encoded data removed]",
      "text/plain": [
       "<Figure size 432x288 with 1 Axes>"
      ]
     },
     "metadata": {},
     "output_type": "display_data"
    }
   ],
   "source": [
    "barplot(simInitial.expected_relocations(), label='Expected Relocations')"
   ]
  },
  {
   "cell_type": "code",
   "execution_count": 40,
   "metadata": {},
   "outputs": [
    {
     "name": "stderr",
     "output_type": "stream",
     "text": [
      "C:\\Users\\lenovo\\AppData\\Roaming\\Python\\Python38\\site-packages\\scipy\\stats\\_distn_infrastructure.py:2162: RuntimeWarning: invalid value encountered in multiply\n",
      "  lower_bound = _a * scale + loc\n",
      "C:\\Users\\lenovo\\AppData\\Roaming\\Python\\Python38\\site-packages\\scipy\\stats\\_distn_infrastructure.py:2163: RuntimeWarning: invalid value encountered in multiply\n",
      "  upper_bound = _b * scale + loc\n"
     ]
    },
    {
     "data": {
      "image/png": "[encoded data removed]",
      "text/plain": [
       "<Figure size 432x288 with 1 Axes>"
      ]
     },
     "metadata": {},
     "output_type": "display_data"
    }
   ],
   "source": [
    "barplot(simInitial.expected_admissions(), label='Expected Admissions')"
   ]
  }
 ],
 "metadata": {
  "kernelspec": {
   "display_name": "Python 3",
   "language": "python",
   "name": "python3"
  },
  "language_info": {
   "codemirror_mode": {
    "name": "ipython",
    "version": 3
   },
   "file_extension": ".py",
   "mimetype": "text/x-python",
   "name": "python",
   "nbconvert_exporter": "python",
   "pygments_lexer": "ipython3",
   "version": "3.8.8"
  },
  "vscode": {
   "interpreter": {
    "hash": "a71a9e4fb054fff428071484f7faa898cb9ecb31a518fe88e3463da9af879578"
   }
  }
 },
 "nbformat": 4,
 "nbformat_minor": 2
}
