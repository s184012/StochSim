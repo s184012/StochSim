{
 "cells": [
  {
   "cell_type": "markdown",
   "metadata": {},
   "source": [
    "Testinate:"
   ]
  },
  {
   "cell_type": "code",
   "execution_count": 1,
   "metadata": {},
   "outputs": [],
   "source": [
    "from src.assignment2.simulation import HospitalSimulation, PatientState, WardType, WardConfig, WardsConfigurations, HospitalConfiguration, hist_plot, hist_comp_plot\n",
    "from scipy import stats\n",
    "import numpy as np\n",
    "import seaborn as sns\n",
    "import pickle"
   ]
  },
  {
   "cell_type": "code",
   "execution_count": 2,
   "metadata": {},
   "outputs": [],
   "source": [
    "\n",
    "P = np.zeros([6,6])\n",
    "P[0, :] = [0.0, 0.05, 0.10, 0.05, 0.80, 0.0]\n",
    "P[1, :] = [0.20, 0.0, 0.50, 0.15, 0.15, 0.0]\n",
    "P[2, :] = [0.30, 0.20, 0.0, 0.20, 0.30, 0.0]\n",
    "P[3, :] = [0.35, 0.30, 0.05, 0.0, 0.30, 0.0]\n",
    "P[4, :] = [0.20, 0.10, 0.60, 0.10, 0.0, 0.0] \n",
    "P[5, :] = [0.20, 0.20, 0.20, 0.20, 0.20, 0.0]\n",
    "\n",
    "arr_Times = [14.5, 11.0, 8.0, 6.5, 5.0, 13.0]\n",
    "\n",
    "len_stay = [2.9, 4.0, 4.5, 1.4, 3.9, 2.2]\n",
    "\n",
    "urgency = [7, 5, 2, 10, 5, 0]\n",
    "\n",
    "bed_capacity = [55, 40, 30, 20, 20, 0]"
   ]
  },
  {
   "cell_type": "code",
   "execution_count": 3,
   "metadata": {},
   "outputs": [],
   "source": [
    "configs = [\n",
    "    WardConfig(\n",
    "        bed_capacity=55, \n",
    "        urgency=7, \n",
    "        mean_arrival_time=1/14.5, \n",
    "        mean_stay_time=2.9),\n",
    "    WardConfig(40, 5, 1/11, 4),\n",
    "    WardConfig(30, 2, 1/8, 4.5),\n",
    "    WardConfig(20, 10, 1/6.5, 1.4),\n",
    "    WardConfig(20, 5, 1/5, 3.9),\n",
    "    WardConfig(0, 0, 1/13, 2.2)\n",
    "]\n",
    "std_configs = WardsConfigurations(configs)\n",
    "\n",
    "std_switch = {\n",
    "    WardType.A: list(P[0, :]),\n",
    "    WardType.B: list(P[1, :]),\n",
    "    WardType.C: list(P[2, :]),\n",
    "    WardType.D: list(P[3, :]),\n",
    "    WardType.E: list(P[4, :]),\n",
    "    WardType.F: list(P[5, :])\n",
    "}\n",
    "\n",
    "def mean_exp_dist(mean_time):\n",
    "    return stats.expon.rvs(scale=mean_time)"
   ]
  },
  {
   "cell_type": "code",
   "execution_count": 4,
   "metadata": {},
   "outputs": [],
   "source": [
    "sim_config = HospitalConfiguration(std_configs, std_switch, mean_exp_dist, mean_exp_dist)\n",
    "H_Sim = HospitalSimulation(sim_config)\n",
    "N = 10"
   ]
  },
  {
   "cell_type": "code",
   "execution_count": 7,
   "metadata": {},
   "outputs": [
    {
     "name": "stdout",
     "output_type": "stream",
     "text": [
      "100/100\r"
     ]
    }
   ],
   "source": [
    "Simz0 = H_Sim.sim_multiple_without_f(n=100)"
   ]
  },
  {
   "cell_type": "code",
   "execution_count": 5,
   "metadata": {},
   "outputs": [
    {
     "name": "stdout",
     "output_type": "stream",
     "text": [
      "100/100\r"
     ]
    }
   ],
   "source": [
    "Simz1 = H_Sim.simulate_only_occupation(n=100)"
   ]
  },
  {
   "cell_type": "code",
   "execution_count": 6,
   "metadata": {},
   "outputs": [
    {
     "name": "stdout",
     "output_type": "stream",
     "text": [
      "100/100\r"
     ]
    }
   ],
   "source": [
    "Simz2 = H_Sim.simulate_already_stolen(n=100)"
   ]
  },
  {
   "cell_type": "code",
   "execution_count": 6,
   "metadata": {},
   "outputs": [
    {
     "name": "stderr",
     "output_type": "stream",
     "text": [
      "C:\\Users\\lenovo\\AppData\\Roaming\\Python\\Python38\\site-packages\\scipy\\stats\\_distn_infrastructure.py:2162: RuntimeWarning: invalid value encountered in multiply\n",
      "  lower_bound = _a * scale + loc\n",
      "C:\\Users\\lenovo\\AppData\\Roaming\\Python\\Python38\\site-packages\\scipy\\stats\\_distn_infrastructure.py:2163: RuntimeWarning: invalid value encountered in multiply\n",
      "  upper_bound = _b * scale + loc\n"
     ]
    }
   ],
   "source": [
    "exp_penDF = Simz0.expected_penalty()\n",
    "expected_penalty = exp_penDF['mean']"
   ]
  },
  {
   "cell_type": "code",
   "execution_count": 7,
   "metadata": {},
   "outputs": [
    {
     "name": "stdout",
     "output_type": "stream",
     "text": [
      "100/100\r"
     ]
    }
   ],
   "source": [
    "\n",
    "Simz3 = H_Sim.simulate_expected_penalty(n=100, expected_penalty=expected_penalty)"
   ]
  },
  {
   "cell_type": "code",
   "execution_count": 11,
   "metadata": {},
   "outputs": [
    {
     "name": "stderr",
     "output_type": "stream",
     "text": [
      "C:\\Users\\lenovo\\AppData\\Roaming\\Python\\Python38\\site-packages\\scipy\\stats\\_distn_infrastructure.py:2162: RuntimeWarning: invalid value encountered in multiply\n",
      "  lower_bound = _a * scale + loc\n",
      "C:\\Users\\lenovo\\AppData\\Roaming\\Python\\Python38\\site-packages\\scipy\\stats\\_distn_infrastructure.py:2163: RuntimeWarning: invalid value encountered in multiply\n",
      "  upper_bound = _b * scale + loc\n"
     ]
    }
   ],
   "source": [
    "Only_Occ_expctPen = Simz1.expected_penalty()\n",
    "Alrd_Takn_expctPen = Simz2.expected_penalty()\n",
    "Exp_Pen_expctPen = Simz3.expected_penalty()"
   ]
  },
  {
   "cell_type": "code",
   "execution_count": 8,
   "metadata": {},
   "outputs": [],
   "source": [
    "with open('Simz3.pickle', 'wb') as handle:\n",
    "    pickle.dump(Simz3, handle)"
   ]
  },
  {
   "cell_type": "code",
   "execution_count": 10,
   "metadata": {},
   "outputs": [],
   "source": [
    "with open('Simz1.pickle', 'rb') as handle:\n",
    "    Simz1 = pickle.load(handle)\n",
    "\n",
    "with open('Simz2.pickle', 'rb') as handle:\n",
    "    Simz2 = pickle.load(handle)\n",
    "\n",
    "with open('Simz3.pickle', 'rb') as handle:\n",
    "    Simz3 = pickle.load(handle)"
   ]
  }
 ],
 "metadata": {
  "kernelspec": {
   "display_name": "Python 3",
   "language": "python",
   "name": "python3"
  },
  "language_info": {
   "codemirror_mode": {
    "name": "ipython",
    "version": 3
   },
   "file_extension": ".py",
   "mimetype": "text/x-python",
   "name": "python",
   "nbconvert_exporter": "python",
   "pygments_lexer": "ipython3",
   "version": "3.8.8"
  },
  "vscode": {
   "interpreter": {
    "hash": "a71a9e4fb054fff428071484f7faa898cb9ecb31a518fe88e3463da9af879578"
   }
  }
 },
 "nbformat": 4,
 "nbformat_minor": 2
}
