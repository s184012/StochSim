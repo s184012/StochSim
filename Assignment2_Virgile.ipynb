{
 "cells": [
  {
   "cell_type": "markdown",
   "metadata": {},
   "source": [
    "Testinate:"
   ]
  },
  {
   "cell_type": "code",
   "execution_count": null,
   "metadata": {},
   "outputs": [],
   "source": [
    "from src.assignment2.simulation import HospitalSimulation\n",
    "from scipy import stats\n",
    "\n",
    "arr_Times = [14.5, 11.0, 8.0, 6.5, 5.0, 13.0]\n",
    "len_stay = [2.9, 4.0, 4.5, 1.4, 3.9, 2.2]\n",
    "\n",
    "H_Sim = HospitalSimulation(stats.expon, stats.expon)\n",
    "\n"
   ]
  }
 ],
 "metadata": {
  "language_info": {
   "name": "python"
  },
  "orig_nbformat": 4
 },
 "nbformat": 4,
 "nbformat_minor": 2
}
