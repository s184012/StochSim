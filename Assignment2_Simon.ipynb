{
 "cells": [
  {
   "cell_type": "code",
   "execution_count": 35,
   "metadata": {},
   "outputs": [
    {
     "name": "stdout",
     "output_type": "stream",
     "text": [
      "The autoreload extension is already loaded. To reload it, use:\n",
      "  %reload_ext autoreload\n"
     ]
    }
   ],
   "source": [
    "%load_ext autoreload\n",
    "%autoreload 2"
   ]
  },
  {
   "cell_type": "code",
   "execution_count": 51,
   "metadata": {},
   "outputs": [],
   "source": [
    "from src.assignment2.simulation import HospitalSimulation, PatientState, WardType, Patient\n",
    "from scipy import stats\n",
    "\n"
   ]
  },
  {
   "cell_type": "code",
   "execution_count": 52,
   "metadata": {},
   "outputs": [],
   "source": [
    "\n",
    "arr_Times = [14.5, 11.0, 8.0, 6.5, 5.0, 13.0]\n",
    "len_stay = [2.9, 4.0, 4.5, 1.4, 3.9, 2.2]\n",
    "\n",
    "hsim = HospitalSimulation(stats.expon, stats.expon)"
   ]
  },
  {
   "cell_type": "code",
   "execution_count": 59,
   "metadata": {},
   "outputs": [
    {
     "name": "stdout",
     "output_type": "stream",
     "text": [
      "0\r"
     ]
    },
    {
     "ename": "AttributeError",
     "evalue": "'NoneType' object has no attribute 'is_full'",
     "output_type": "error",
     "traceback": [
      "\u001b[0;31m---------------------------------------------------------------------------\u001b[0m",
      "\u001b[0;31mAttributeError\u001b[0m                            Traceback (most recent call last)",
      "\u001b[1;32m/home/simon/Code/StochSim/Assignment2_Simon.ipynb Cell 4'\u001b[0m in \u001b[0;36m<cell line: 1>\u001b[0;34m()\u001b[0m\n\u001b[0;32m----> <a href='vscode-notebook-cell:/home/simon/Code/StochSim/Assignment2_Simon.ipynb#ch0000003?line=0'>1</a>\u001b[0m hsim\u001b[39m.\u001b[39;49msimulate_year(pType\u001b[39m=\u001b[39;49m\u001b[39m'\u001b[39;49m\u001b[39mall\u001b[39;49m\u001b[39m'\u001b[39;49m)\n\u001b[1;32m      <a href='vscode-notebook-cell:/home/simon/Code/StochSim/Assignment2_Simon.ipynb#ch0000003?line=1'>2</a>\u001b[0m hsim\u001b[39m.\u001b[39mtotal_penalty\n",
      "File \u001b[0;32m~/Code/StochSim/src/assignment2/simulation.py:199\u001b[0m, in \u001b[0;36mHospitalSimulation.simulate_year\u001b[0;34m(self, pType, bed_distribution)\u001b[0m\n\u001b[1;32m    <a href='file:///home/simon/Code/StochSim/src/assignment2/simulation.py?line=196'>197</a>\u001b[0m \u001b[39melse\u001b[39;00m:\n\u001b[1;32m    <a href='file:///home/simon/Code/StochSim/src/assignment2/simulation.py?line=197'>198</a>\u001b[0m     \u001b[39mif\u001b[39;00m pType \u001b[39m!=\u001b[39m \u001b[39m'\u001b[39m\u001b[39mnof\u001b[39m\u001b[39m'\u001b[39m:\n\u001b[0;32m--> <a href='file:///home/simon/Code/StochSim/src/assignment2/simulation.py?line=198'>199</a>\u001b[0m         \u001b[39mself\u001b[39;49m\u001b[39m.\u001b[39;49mrellocate_bed_from_F()\n\u001b[1;32m    <a href='file:///home/simon/Code/StochSim/src/assignment2/simulation.py?line=199'>200</a>\u001b[0m     \u001b[39mself\u001b[39m\u001b[39m.\u001b[39massign_patient_to_ward(patient)\n\u001b[1;32m    <a href='file:///home/simon/Code/StochSim/src/assignment2/simulation.py?line=201'>202</a>\u001b[0m \u001b[39mself\u001b[39m\u001b[39m.\u001b[39mpatients\u001b[39m.\u001b[39mappend(patient)\n",
      "File \u001b[0;32m~/Code/StochSim/src/assignment2/simulation.py:259\u001b[0m, in \u001b[0;36mHospitalSimulation.rellocate_bed_from_F\u001b[0;34m(self)\u001b[0m\n\u001b[1;32m    <a href='file:///home/simon/Code/StochSim/src/assignment2/simulation.py?line=256'>257</a>\u001b[0m \u001b[39mself\u001b[39m\u001b[39m.\u001b[39mupdate_wards()\n\u001b[1;32m    <a href='file:///home/simon/Code/StochSim/src/assignment2/simulation.py?line=257'>258</a>\u001b[0m f_ward \u001b[39m=\u001b[39m \u001b[39mself\u001b[39m\u001b[39m.\u001b[39mwards\u001b[39m.\u001b[39mget(WardType\u001b[39m.\u001b[39mF)\n\u001b[0;32m--> <a href='file:///home/simon/Code/StochSim/src/assignment2/simulation.py?line=258'>259</a>\u001b[0m \u001b[39mif\u001b[39;00m f_ward\u001b[39m.\u001b[39;49mis_full:\n\u001b[1;32m    <a href='file:///home/simon/Code/StochSim/src/assignment2/simulation.py?line=259'>260</a>\u001b[0m     \u001b[39mreturn\u001b[39;00m\n\u001b[1;32m    <a href='file:///home/simon/Code/StochSim/src/assignment2/simulation.py?line=261'>262</a>\u001b[0m other_wards \u001b[39m=\u001b[39m [ward \u001b[39mfor\u001b[39;00m \u001b[39mtype\u001b[39m, ward \u001b[39min\u001b[39;00m \u001b[39mself\u001b[39m\u001b[39m.\u001b[39mwards\u001b[39m.\u001b[39mitems() \u001b[39mif\u001b[39;00m \u001b[39mtype\u001b[39m \u001b[39mis\u001b[39;00m \u001b[39mnot\u001b[39;00m WardType\u001b[39m.\u001b[39mF]\n",
      "\u001b[0;31mAttributeError\u001b[0m: 'NoneType' object has no attribute 'is_full'"
     ]
    }
   ],
   "source": [
    "hsim.simulate_year(pType='all')\n",
    "hsim.total_penalty\n",
    "\n",
    "\n"
   ]
  },
  {
   "cell_type": "code",
   "execution_count": 44,
   "metadata": {},
   "outputs": [
    {
     "data": {
      "text/plain": [
       "3363"
      ]
     },
     "execution_count": 44,
     "metadata": {},
     "output_type": "execute_result"
    }
   ],
   "source": []
  },
  {
   "cell_type": "code",
   "execution_count": 5,
   "metadata": {},
   "outputs": [],
   "source": [
    "\n",
    "a = [(0.49527559250974806, Patient(type=PatientType.D, arrival_time=0.16369893942381536, stay_time=0.3315766530859327))]"
   ]
  },
  {
   "cell_type": "code",
   "execution_count": 34,
   "metadata": {},
   "outputs": [
    {
     "data": {
      "text/plain": [
       "Ward(type=<WardType.D: 3>, capacity=20, urgency=10, total_number_of_treated_patients=7, rejected_patients=0, patients=[(33.50380003701177, Patient(type=<PatientType.D: 3>, ward=<WardType.D: 3>, penalty=10, arrival_time=33.301781089755025, stay_time=0.20201894725674943))])"
      ]
     },
     "execution_count": 34,
     "metadata": {},
     "output_type": "execute_result"
    }
   ],
   "source": [
    "hsim.wards[WardType.D]"
   ]
  },
  {
   "cell_type": "code",
   "execution_count": null,
   "metadata": {},
   "outputs": [],
   "source": []
  }
 ],
 "metadata": {
  "interpreter": {
   "hash": "c2b9b044514c32f8ae709160d3d0e899e3a72e96e6170774076ba8cd4ed5b057"
  },
  "kernelspec": {
   "display_name": "Python 3.10.4 ('StochSim')",
   "language": "python",
   "name": "python3"
  },
  "language_info": {
   "codemirror_mode": {
    "name": "ipython",
    "version": 3
   },
   "file_extension": ".py",
   "mimetype": "text/x-python",
   "name": "python",
   "nbconvert_exporter": "python",
   "pygments_lexer": "ipython3",
   "version": "3.10.4"
  },
  "orig_nbformat": 4
 },
 "nbformat": 4,
 "nbformat_minor": 2
}
