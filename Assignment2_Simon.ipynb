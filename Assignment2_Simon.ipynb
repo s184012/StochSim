{
 "cells": [
  {
   "cell_type": "code",
   "execution_count": 24,
   "metadata": {},
   "outputs": [
    {
     "name": "stdout",
     "output_type": "stream",
     "text": [
      "The autoreload extension is already loaded. To reload it, use:\n",
      "  %reload_ext autoreload\n"
     ]
    }
   ],
   "source": [
    "%load_ext autoreload\n",
    "%autoreload 2"
   ]
  },
  {
   "cell_type": "code",
   "execution_count": 25,
   "metadata": {},
   "outputs": [],
   "source": [
    "from src.assignment2.simulation import HospitalSimulation, PatientState, WardType, WardConfig, WardsConfigurations, HospitalConfiguration\n",
    "from scipy import stats\n",
    "import numpy as np\n"
   ]
  },
  {
   "cell_type": "code",
   "execution_count": 34,
   "metadata": {},
   "outputs": [],
   "source": [
    "\n",
    "P = np.zeros([6,6])\n",
    "P[0, :] = [0.0, 0.05, 0.10, 0.05, 0.80, 0.0]\n",
    "P[1, :] = [0.20, 0.0, 0.50, 0.15, 0.15, 0.0]\n",
    "P[2, :] = [0.30, 0.20, 0.0, 0.20, 0.30, 0.0]\n",
    "P[3, :] = [0.35, 0.30, 0.05, 0.0, 0.30, 0.0]\n",
    "P[4, :] = [0.20, 0.10, 0.60, 0.10, 0.0, 0.0] \n",
    "P[5, :] = [0.20, 0.20, 0.20, 0.20, 0.20, 0.0]\n",
    "\n",
    "arr_Times = [14.5, 11.0, 8.0, 6.5, 5.0, 13.0]\n",
    "\n",
    "len_stay = [2.9, 4.0, 4.5, 1.4, 3.9, 2.2]\n",
    "\n",
    "urgency = [7, 5, 2, 10, 5, 0]\n",
    "\n",
    "bed_capacity = [55, 40, 30, 20, 20, 0]\n"
   ]
  },
  {
   "cell_type": "code",
   "execution_count": 46,
   "metadata": {},
   "outputs": [],
   "source": [
    "\n",
    "configs = [\n",
    "    WardConfig(\n",
    "        bed_capacity=55, \n",
    "        urgency=7, \n",
    "        mean_arrival_time=1/14.5, \n",
    "        mean_stay_time=2.9),\n",
    "    WardConfig(40, 5, 1/11, 4),\n",
    "    WardConfig(30, 2, 1/8, 4.5),\n",
    "    WardConfig(20, 10, 1/6.5, 1.4),\n",
    "    WardConfig(20, 5, 1/5, 3.9),\n",
    "    WardConfig(0, 0, 1/13, 2.2)\n",
    "]\n",
    "std_configs = WardsConfigurations(configs)\n",
    "\n",
    "std_switch = {\n",
    "    WardType.A: [0.0, 0.05, 0.10, 0.05, 0.80, 0.0],\n",
    "    WardType.B: [0.20, 0.0, 0.50, 0.15, 0.15, 0.0],\n",
    "    WardType.C: [0.30, 0.20, 0.0, 0.20, 0.30, 0.0],\n",
    "    WardType.D: [0.35, 0.30, 0.05, 0.0, 0.30, 0.0],\n",
    "    WardType.E: [0.20, 0.10, 0.60, 0.10, 0.0, 0.0],\n",
    "    WardType.F: [0.20, 0.20, 0.20, 0.20, 0.20, 0.0]\n",
    "}\n",
    "\n",
    "def mean_exp_dist(mean_time):\n",
    "    return stats.expon.rvs(scale=mean_time)\n",
    "\n",
    "sim_config = HospitalConfiguration(std_configs, std_switch, mean_exp_dist, mean_exp_dist)\n",
    "hsim = HospitalSimulation(sim_config)"
   ]
  },
  {
   "cell_type": "code",
   "execution_count": 47,
   "metadata": {},
   "outputs": [
    {
     "name": "stdout",
     "output_type": "stream",
     "text": [
      "100%\r"
     ]
    },
    {
     "data": {
      "text/plain": [
       "Ward(type=<WardType.B: 1>, config=WardConfig(bed_capacity=40, urgency=5, mean_arrival_time=0.09090909090909091, mean_stay_time=4), total_number_of_treated_patients=3482, total_number_of_rejected_patients=0, patients=[(365.01604305021766, Patient(preferred_ward=<WardType.B: 1>, arrival_time=357.44391540929337, stay_time=7.572127640924266, state=<PatientState.IN_CORRECT_YARD: 1>, assigned_ward=<WardType.B: 1>)), (365.14186678778077, Patient(preferred_ward=<WardType.B: 1>, arrival_time=361.3746400262982, stay_time=3.767226761482571, state=<PatientState.IN_CORRECT_YARD: 1>, assigned_ward=<WardType.B: 1>)), (365.3867634161153, Patient(preferred_ward=<WardType.B: 1>, arrival_time=358.4967590072741, stay_time=6.890004408841205, state=<PatientState.IN_CORRECT_YARD: 1>, assigned_ward=<WardType.B: 1>)), (365.2359439956087, Patient(preferred_ward=<WardType.B: 1>, arrival_time=363.3413590224763, stay_time=1.8945849731324007, state=<PatientState.IN_CORRECT_YARD: 1>, assigned_ward=<WardType.B: 1>)), (365.1463665927739, Patient(preferred_ward=<WardType.B: 1>, arrival_time=363.49192651562885, stay_time=1.6544400771450614, state=<PatientState.IN_CORRECT_YARD: 1>, assigned_ward=<WardType.B: 1>)), (366.8043307849738, Patient(preferred_ward=<WardType.B: 1>, arrival_time=355.0106300490663, stay_time=11.793700735907443, state=<PatientState.IN_CORRECT_YARD: 1>, assigned_ward=<WardType.B: 1>)), (367.1173792588995, Patient(preferred_ward=<WardType.B: 1>, arrival_time=361.9297405833382, stay_time=5.187638675561365, state=<PatientState.IN_CORRECT_YARD: 1>, assigned_ward=<WardType.B: 1>)), (365.5926702135526, Patient(preferred_ward=<WardType.B: 1>, arrival_time=362.4578285111832, stay_time=3.1348417023693718, state=<PatientState.IN_CORRECT_YARD: 1>, assigned_ward=<WardType.B: 1>)), (365.8833423972481, Patient(preferred_ward=<WardType.B: 1>, arrival_time=363.1369181788522, stay_time=2.7464242183958834, state=<PatientState.IN_CORRECT_YARD: 1>, assigned_ward=<WardType.B: 1>)), (365.2016831297862, Patient(preferred_ward=<WardType.B: 1>, arrival_time=364.91709465172727, stay_time=0.28458847805893284, state=<PatientState.IN_CORRECT_YARD: 1>, assigned_ward=<WardType.B: 1>)), (365.6403880512386, Patient(preferred_ward=<WardType.B: 1>, arrival_time=363.4185516077405, stay_time=2.221836443498096, state=<PatientState.IN_CORRECT_YARD: 1>, assigned_ward=<WardType.B: 1>)), (370.8580510332108, Patient(preferred_ward=<WardType.B: 1>, arrival_time=359.77574949197367, stay_time=11.082301541237166, state=<PatientState.IN_CORRECT_YARD: 1>, assigned_ward=<WardType.B: 1>)), (367.6986023153091, Patient(preferred_ward=<WardType.B: 1>, arrival_time=350.3219609162651, stay_time=17.376641399043965, state=<PatientState.IN_CORRECT_YARD: 1>, assigned_ward=<WardType.B: 1>)), (367.6829474680436, Patient(preferred_ward=<WardType.B: 1>, arrival_time=355.8854403976243, stay_time=11.797507070419316, state=<PatientState.IN_CORRECT_YARD: 1>, assigned_ward=<WardType.B: 1>)), (369.4444173802784, Patient(preferred_ward=<WardType.B: 1>, arrival_time=360.58111944046016, stay_time=8.863297939818258, state=<PatientState.IN_CORRECT_YARD: 1>, assigned_ward=<WardType.B: 1>)), (365.83034121558075, Patient(preferred_ward=<WardType.B: 1>, arrival_time=360.25164700788184, stay_time=5.578694207698886, state=<PatientState.IN_CORRECT_YARD: 1>, assigned_ward=<WardType.B: 1>)), (366.4158117852403, Patient(preferred_ward=<WardType.B: 1>, arrival_time=363.3617866307342, stay_time=3.054025154506123, state=<PatientState.IN_CORRECT_YARD: 1>, assigned_ward=<WardType.B: 1>)), (365.97706581946994, Patient(preferred_ward=<WardType.B: 1>, arrival_time=363.97963734365334, stay_time=1.9974284758165914, state=<PatientState.IN_CORRECT_YARD: 1>, assigned_ward=<WardType.B: 1>)), (366.1569309546039, Patient(preferred_ward=<WardType.B: 1>, arrival_time=364.5221474368524, stay_time=1.6347835177515215, state=<PatientState.IN_CORRECT_YARD: 1>, assigned_ward=<WardType.B: 1>)), (365.61263215218145, Patient(preferred_ward=<WardType.B: 1>, arrival_time=357.8466916470443, stay_time=7.765940505137166, state=<PatientState.IN_CORRECT_YARD: 1>, assigned_ward=<WardType.B: 1>)), (367.3669543231732, Patient(preferred_ward=<WardType.B: 1>, arrival_time=364.2783726595983, stay_time=3.0885816635749226, state=<PatientState.IN_CORRECT_YARD: 1>, assigned_ward=<WardType.B: 1>)), (370.83942021503003, Patient(preferred_ward=<WardType.B: 1>, arrival_time=362.97997371692753, stay_time=7.859446498102504, state=<PatientState.IN_CORRECT_YARD: 1>, assigned_ward=<WardType.B: 1>)), (369.3831809575182, Patient(preferred_ward=<WardType.B: 1>, arrival_time=362.0139021969732, stay_time=7.369278760544981, state=<PatientState.IN_CORRECT_YARD: 1>, assigned_ward=<WardType.B: 1>)), (373.49855146029677, Patient(preferred_ward=<WardType.B: 1>, arrival_time=346.16264054929087, stay_time=27.335910911005925, state=<PatientState.IN_CORRECT_YARD: 1>, assigned_ward=<WardType.B: 1>)), (375.65462453968547, Patient(preferred_ward=<WardType.B: 1>, arrival_time=364.20931105966383, stay_time=11.445313480021651, state=<PatientState.IN_CORRECT_YARD: 1>, assigned_ward=<WardType.B: 1>)), (369.25936673791693, Patient(preferred_ward=<WardType.B: 1>, arrival_time=362.11585849239185, stay_time=7.143508245525103, state=<PatientState.IN_CORRECT_YARD: 1>, assigned_ward=<WardType.B: 1>)), (372.0243346728249, Patient(preferred_ward=<WardType.B: 1>, arrival_time=353.76064957685776, stay_time=18.263685095967165, state=<PatientState.IN_CORRECT_YARD: 1>, assigned_ward=<WardType.B: 1>)), (369.8286137091994, Patient(preferred_ward=<WardType.B: 1>, arrival_time=355.47306975979575, stay_time=14.355543949403643, state=<PatientState.IN_CORRECT_YARD: 1>, assigned_ward=<WardType.B: 1>)), (370.6183907917649, Patient(preferred_ward=<WardType.B: 1>, arrival_time=358.4179257249203, stay_time=12.200465066844615, state=<PatientState.IN_CORRECT_YARD: 1>, assigned_ward=<WardType.B: 1>)), (374.7436832014373, Patient(preferred_ward=<WardType.B: 1>, arrival_time=361.9320753662611, stay_time=12.811607835176213, state=<PatientState.IN_CORRECT_YARD: 1>, assigned_ward=<WardType.B: 1>)), (369.82118615458046, Patient(preferred_ward=<WardType.B: 1>, arrival_time=362.715045302256, stay_time=7.106140852324464, state=<PatientState.IN_CORRECT_YARD: 1>, assigned_ward=<WardType.B: 1>)), (369.1756338035724, Patient(preferred_ward=<WardType.B: 1>, arrival_time=361.83868524897326, stay_time=7.3369485545991315, state=<PatientState.IN_CORRECT_YARD: 1>, assigned_ward=<WardType.B: 1>)), (367.59576408765497, Patient(preferred_ward=<WardType.B: 1>, arrival_time=364.1673414773796, stay_time=3.428422610275419, state=<PatientState.IN_CORRECT_YARD: 1>, assigned_ward=<WardType.B: 1>)), (368.8278968817836, Patient(preferred_ward=<WardType.B: 1>, arrival_time=362.95658545071177, stay_time=5.871311431071814, state=<PatientState.IN_CORRECT_YARD: 1>, assigned_ward=<WardType.B: 1>)), (368.2788345549188, Patient(preferred_ward=<WardType.B: 1>, arrival_time=362.64643023520154, stay_time=5.632404319717225, state=<PatientState.IN_CORRECT_YARD: 1>, assigned_ward=<WardType.B: 1>)), (369.2901238654735, Patient(preferred_ward=<WardType.B: 1>, arrival_time=363.9894527221486, stay_time=5.300671143324919, state=<PatientState.IN_CORRECT_YARD: 1>, assigned_ward=<WardType.B: 1>)), (373.6294900084182, Patient(preferred_ward=<WardType.B: 1>, arrival_time=363.2228908813925, stay_time=10.406599127025657, state=<PatientState.IN_CORRECT_YARD: 1>, assigned_ward=<WardType.B: 1>)), (366.80626406343055, Patient(preferred_ward=<WardType.B: 1>, arrival_time=364.04078096220724, stay_time=2.7654831012233037, state=<PatientState.IN_CORRECT_YARD: 1>, assigned_ward=<WardType.B: 1>)), (371.8653364507419, Patient(preferred_ward=<WardType.B: 1>, arrival_time=364.54836148598935, stay_time=7.316974964752542, state=<PatientState.IN_CORRECT_YARD: 1>, assigned_ward=<WardType.B: 1>)), (375.1499555098949, Patient(preferred_ward=<WardType.B: 1>, arrival_time=364.70141767026166, stay_time=10.448537839633214, state=<PatientState.IN_CORRECT_YARD: 1>, assigned_ward=<WardType.B: 1>)), (367.95999949519586, Patient(preferred_ward=<WardType.B: 1>, arrival_time=364.01996117194426, stay_time=3.9400383232515965, state=<PatientState.IN_CORRECT_YARD: 1>, assigned_ward=<WardType.B: 1>)), (373.05795643010873, Patient(preferred_ward=<WardType.B: 1>, arrival_time=364.9960135840771, stay_time=8.061942846031636, state=<PatientState.IN_CORRECT_YARD: 1>, assigned_ward=<WardType.B: 1>))])"
      ]
     },
     "execution_count": 47,
     "metadata": {},
     "output_type": "execute_result"
    }
   ],
   "source": [
    "hsim.simulate_year()\n",
    "hsim.total_penalty\n",
    "\n",
    "hsim.wards[WardType.B]"
   ]
  },
  {
   "cell_type": "code",
   "execution_count": 23,
   "metadata": {},
   "outputs": [],
   "source": [
    "## Example of setting bed distribution, individually and alltogether\n",
    "hsim.ward_configs[WardType.A].bed_capacity = 40\n",
    "hsim.ward_configs.bed_distribution = [100, 40, 10, 10, 10, 0]\n",
    "\n",
    "## Example setting new distributions\n",
    "def mean_lognorm_sd2(mean_time):\n",
    "    s = 2/mean_time**2\n",
    "    mu = mean_time * np.exp(-s**2/2)\n",
    "    return stats.lognorm(scale=mu, s=np.sqrt(s)).rvs()\n",
    "\n",
    "hsim.stay_dist = mean_lognorm_sd2\n"
   ]
  },
  {
   "cell_type": "code",
   "execution_count": 5,
   "metadata": {},
   "outputs": [],
   "source": [
    "\n",
    "a = [(0.49527559250974806, Patient(type=PatientType.D, arrival_time=0.16369893942381536, stay_time=0.3315766530859327))]"
   ]
  },
  {
   "cell_type": "code",
   "execution_count": 34,
   "metadata": {},
   "outputs": [
    {
     "data": {
      "text/plain": [
       "Ward(type=<WardType.D: 3>, capacity=20, urgency=10, total_number_of_treated_patients=7, rejected_patients=0, patients=[(33.50380003701177, Patient(type=<PatientType.D: 3>, ward=<WardType.D: 3>, penalty=10, arrival_time=33.301781089755025, stay_time=0.20201894725674943))])"
      ]
     },
     "execution_count": 34,
     "metadata": {},
     "output_type": "execute_result"
    }
   ],
   "source": [
    "hsim.wards[WardType.D]"
   ]
  },
  {
   "cell_type": "code",
   "execution_count": null,
   "metadata": {},
   "outputs": [],
   "source": []
  }
 ],
 "metadata": {
  "interpreter": {
   "hash": "c2b9b044514c32f8ae709160d3d0e899e3a72e96e6170774076ba8cd4ed5b057"
  },
  "kernelspec": {
   "display_name": "Python 3.10.4 ('StochSim')",
   "language": "python",
   "name": "python3"
  },
  "language_info": {
   "codemirror_mode": {
    "name": "ipython",
    "version": 3
   },
   "file_extension": ".py",
   "mimetype": "text/x-python",
   "name": "python",
   "nbconvert_exporter": "python",
   "pygments_lexer": "ipython3",
   "version": "3.10.4"
  },
  "orig_nbformat": 4
 },
 "nbformat": 4,
 "nbformat_minor": 2
}
