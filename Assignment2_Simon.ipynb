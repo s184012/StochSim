{
 "cells": [
  {
   "cell_type": "code",
   "execution_count": 13,
   "metadata": {},
   "outputs": [
    {
     "name": "stdout",
     "output_type": "stream",
     "text": [
      "The autoreload extension is already loaded. To reload it, use:\n",
      "  %reload_ext autoreload\n"
     ]
    }
   ],
   "source": [
    "%load_ext autoreload\n",
    "%autoreload 2"
   ]
  },
  {
   "cell_type": "code",
   "execution_count": 14,
   "metadata": {},
   "outputs": [],
   "source": [
    "from src.assignment2.simulation import HospitalSimulation, PatientState, WardType, WardConfig, WardsConfigurations, HospitalConfiguration\n",
    "from scipy import stats\n",
    "import numpy as np\n"
   ]
  },
  {
   "cell_type": "code",
   "execution_count": 15,
   "metadata": {},
   "outputs": [
    {
     "ename": "NameError",
     "evalue": "name 'np' is not defined",
     "output_type": "error",
     "traceback": [
      "\u001b[0;31m---------------------------------------------------------------------------\u001b[0m",
      "\u001b[0;31mNameError\u001b[0m                                 Traceback (most recent call last)",
      "\u001b[1;32m/home/simon/Code/StochSim/Assignment2_Simon.ipynb Cell 3'\u001b[0m in \u001b[0;36m<cell line: 1>\u001b[0;34m()\u001b[0m\n\u001b[0;32m----> <a href='vscode-notebook-cell:/home/simon/Code/StochSim/Assignment2_Simon.ipynb#ch0000002?line=0'>1</a>\u001b[0m P \u001b[39m=\u001b[39m np\u001b[39m.\u001b[39mzeros([\u001b[39m6\u001b[39m,\u001b[39m6\u001b[39m])\n\u001b[1;32m      <a href='vscode-notebook-cell:/home/simon/Code/StochSim/Assignment2_Simon.ipynb#ch0000002?line=1'>2</a>\u001b[0m P[\u001b[39m0\u001b[39m, :] \u001b[39m=\u001b[39m [\u001b[39m0.0\u001b[39m, \u001b[39m0.05\u001b[39m, \u001b[39m0.10\u001b[39m, \u001b[39m0.05\u001b[39m, \u001b[39m0.80\u001b[39m, \u001b[39m0.0\u001b[39m]\n\u001b[1;32m      <a href='vscode-notebook-cell:/home/simon/Code/StochSim/Assignment2_Simon.ipynb#ch0000002?line=2'>3</a>\u001b[0m P[\u001b[39m1\u001b[39m, :] \u001b[39m=\u001b[39m [\u001b[39m0.20\u001b[39m, \u001b[39m0.0\u001b[39m, \u001b[39m0.50\u001b[39m, \u001b[39m0.15\u001b[39m, \u001b[39m0.15\u001b[39m, \u001b[39m0.0\u001b[39m]\n",
      "\u001b[0;31mNameError\u001b[0m: name 'np' is not defined"
     ]
    }
   ],
   "source": [
    "\n",
    "P = np.zeros([6,6])\n",
    "P[0, :] = [0.0, 0.05, 0.10, 0.05, 0.80, 0.0]\n",
    "P[1, :] = [0.20, 0.0, 0.50, 0.15, 0.15, 0.0]\n",
    "P[2, :] = [0.30, 0.20, 0.0, 0.20, 0.30, 0.0]\n",
    "P[3, :] = [0.35, 0.30, 0.05, 0.0, 0.30, 0.0]\n",
    "P[4, :] = [0.20, 0.10, 0.60, 0.10, 0.0, 0.0] \n",
    "P[5, :] = [0.20, 0.20, 0.20, 0.20, 0.20, 0.0]\n",
    "\n",
    "arr_Times = [14.5, 11.0, 8.0, 6.5, 5.0, 13.0]\n",
    "\n",
    "len_stay = [2.9, 4.0, 4.5, 1.4, 3.9, 2.2]\n",
    "\n",
    "urgency = [7, 5, 2, 10, 5, 0]\n",
    "\n",
    "bed_capacity = [55, 40, 30, 20, 20, 0]\n"
   ]
  },
  {
   "cell_type": "code",
   "execution_count": null,
   "metadata": {},
   "outputs": [],
   "source": [
    "\n",
    "configs = [\n",
    "    WardConfig(\n",
    "        bed_capacity=55, \n",
    "        urgency=7, \n",
    "        mean_arrival_time=1/14.5, \n",
    "        mean_stay_time=2.9),\n",
    "    WardConfig(40, 5, 1/11, 4),\n",
    "    WardConfig(30, 2, 1/8, 4.5),\n",
    "    WardConfig(20, 10, 1/6.5, 1.4),\n",
    "    WardConfig(20, 5, 1/5, 3.9),\n",
    "    WardConfig(0, 0, 1/13, 2.2)\n",
    "]\n",
    "std_configs = WardsConfigurations(configs)\n",
    "\n",
    "std_switch = {\n",
    "    WardType.A: [0.0, 0.05, 0.10, 0.05, 0.80, 0.0],\n",
    "    WardType.B: [0.20, 0.0, 0.50, 0.15, 0.15, 0.0],\n",
    "    WardType.C: [0.30, 0.20, 0.0, 0.20, 0.30, 0.0],\n",
    "    WardType.D: [0.35, 0.30, 0.05, 0.0, 0.30, 0.0],\n",
    "    WardType.E: [0.20, 0.10, 0.60, 0.10, 0.0, 0.0],\n",
    "    WardType.F: [0.20, 0.20, 0.20, 0.20, 0.20, 0.0]\n",
    "}\n",
    "\n",
    "sim_config = HospitalConfiguration(std_configs, std_switch, stats.expon, stats.expon)\n",
    "hsim = HospitalSimulation(sim_config)"
   ]
  },
  {
   "cell_type": "code",
   "execution_count": 22,
   "metadata": {},
   "outputs": [
    {
     "name": "stdout",
     "output_type": "stream",
     "text": [
      "100%\r"
     ]
    },
    {
     "data": {
      "text/plain": [
       "6493"
      ]
     },
     "execution_count": 22,
     "metadata": {},
     "output_type": "execute_result"
    }
   ],
   "source": [
    "hsim.simulate_year()\n",
    "hsim.total_penalty\n",
    "\n",
    "\n"
   ]
  },
  {
   "cell_type": "code",
   "execution_count": 23,
   "metadata": {},
   "outputs": [],
   "source": [
    "## Example of setting bed distribution, individually and alltogether\n",
    "hsim.ward_configs[WardType.A].bed_capacity = 40\n",
    "hsim.ward_configs.bed_distribution = [100, 40, 10, 10, 10, 0]\n",
    "\n",
    "## Example setting new distributions\n",
    "def mean_lognorm_sd2(mean_time):\n",
    "    s = 2/mean_time**2\n",
    "    mu = mean_time * np.exp(-s**2/2)\n",
    "    return stats.lognorm(scale=mu, s=np.sqrt(s)).rvs()\n",
    "\n",
    "hsim.stay_dist = mean_lognorm_sd2\n"
   ]
  },
  {
   "cell_type": "code",
   "execution_count": 5,
   "metadata": {},
   "outputs": [],
   "source": [
    "\n",
    "a = [(0.49527559250974806, Patient(type=PatientType.D, arrival_time=0.16369893942381536, stay_time=0.3315766530859327))]"
   ]
  },
  {
   "cell_type": "code",
   "execution_count": 34,
   "metadata": {},
   "outputs": [
    {
     "data": {
      "text/plain": [
       "Ward(type=<WardType.D: 3>, capacity=20, urgency=10, total_number_of_treated_patients=7, rejected_patients=0, patients=[(33.50380003701177, Patient(type=<PatientType.D: 3>, ward=<WardType.D: 3>, penalty=10, arrival_time=33.301781089755025, stay_time=0.20201894725674943))])"
      ]
     },
     "execution_count": 34,
     "metadata": {},
     "output_type": "execute_result"
    }
   ],
   "source": [
    "hsim.wards[WardType.D]"
   ]
  },
  {
   "cell_type": "code",
   "execution_count": null,
   "metadata": {},
   "outputs": [],
   "source": []
  }
 ],
 "metadata": {
  "interpreter": {
   "hash": "c2b9b044514c32f8ae709160d3d0e899e3a72e96e6170774076ba8cd4ed5b057"
  },
  "kernelspec": {
   "display_name": "Python 3.10.4 ('StochSim')",
   "language": "python",
   "name": "python3"
  },
  "language_info": {
   "codemirror_mode": {
    "name": "ipython",
    "version": 3
   },
   "file_extension": ".py",
   "mimetype": "text/x-python",
   "name": "python",
   "nbconvert_exporter": "python",
   "pygments_lexer": "ipython3",
   "version": "3.10.4"
  },
  "orig_nbformat": 4
 },
 "nbformat": 4,
 "nbformat_minor": 2
}
