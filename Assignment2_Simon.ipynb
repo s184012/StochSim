{
 "cells": [
  {
   "cell_type": "code",
   "execution_count": 1,
   "metadata": {},
   "outputs": [],
   "source": [
    "%load_ext autoreload\n",
    "%autoreload 2"
   ]
  },
  {
   "cell_type": "code",
   "execution_count": 2,
   "metadata": {},
   "outputs": [],
   "source": [
    "from src.assignment2.simulation import HospitalSimulation, PatientState, WardType, WardConfig, WardsConfigurations, HospitalConfiguration\n",
    "from scipy import stats\n",
    "import numpy as np\n",
    "import seaborn as sns\n"
   ]
  },
  {
   "cell_type": "code",
   "execution_count": null,
   "metadata": {},
   "outputs": [],
   "source": []
  },
  {
   "cell_type": "code",
   "execution_count": 3,
   "metadata": {},
   "outputs": [],
   "source": [
    "\n",
    "configs = [\n",
    "    WardConfig(bed_capacity=55, urgency=7, mean_arrival_time=1/14.5, \n",
    "        mean_stay_time=2.9),\n",
    "    WardConfig(40, 5, 1/11, 4),\n",
    "    WardConfig(30, 2, 1/8, 4.5),\n",
    "    WardConfig(20, 10, 1/6.5, 1.4),\n",
    "    WardConfig(20, 5, 1/5, 3.9),\n",
    "    WardConfig(0, 0, 1/13, 2.2)\n",
    "]\n",
    "\n",
    "configs_nof = configs.copy()\n",
    "del configs_nof[-1]\n",
    "\n",
    "std_configs = WardsConfigurations(configs)\n",
    "std_switch = {\n",
    "    WardType.A: [0.0, 0.05, 0.10, 0.05, 0.80, 0.0],\n",
    "    WardType.B: [0.20, 0.0, 0.50, 0.15, 0.15, 0.0],\n",
    "    WardType.C: [0.30, 0.20, 0.0, 0.20, 0.30, 0.0],\n",
    "    WardType.D: [0.35, 0.30, 0.05, 0.0, 0.30, 0.0],\n",
    "    WardType.E: [0.20, 0.10, 0.60, 0.10, 0.0, 0.0],\n",
    "    WardType.F: [0.20, 0.20, 0.20, 0.20, 0.20, 0.0]\n",
    "}\n",
    "\n",
    "def mean_exp_dist(mean_time):\n",
    "    return stats.expon.rvs(scale=mean_time)\n",
    "\n",
    "sim_config = HospitalConfiguration(std_configs, std_switch, mean_exp_dist, mean_exp_dist)\n",
    "hsim = HospitalSimulation(sim_config)"
   ]
  },
  {
   "cell_type": "code",
   "execution_count": 4,
   "metadata": {},
   "outputs": [
    {
     "name": "stdout",
     "output_type": "stream",
     "text": [
      "100/100\r"
     ]
    }
   ],
   "source": [
    "result = hsim.sim_multiple_year(100)\n",
    "\n"
   ]
  },
  {
   "cell_type": "code",
   "execution_count": 6,
   "metadata": {},
   "outputs": [],
   "source": [
    "occupied_with_F = result.state_from_ward_pct_distribution([PatientState.REJECTED, PatientState.IN_WRONG_WARD], [WardType.C])\n",
    "\n",
    "number_of_admissions = result.number_of_state_in_ward([PatientState.IN_CORRECT_WARD], [WardType.D])\n",
    "\n",
    "number_of_relocated = result.number_of_state_from_ward([PatientState.REJECTED, PatientState.IN_WRONG_WARD], [WardType.C])\n",
    "\n",
    "penalty = result.expected_penalty_from_wards(WardType.A)"
   ]
  },
  {
   "cell_type": "code",
   "execution_count": 7,
   "metadata": {},
   "outputs": [
    {
     "data": {
      "text/plain": [
       "([217,\n",
       "  105,\n",
       "  28,\n",
       "  105,\n",
       "  84,\n",
       "  154,\n",
       "  28,\n",
       "  273,\n",
       "  28,\n",
       "  105,\n",
       "  210,\n",
       "  28,\n",
       "  105,\n",
       "  77,\n",
       "  266,\n",
       "  245,\n",
       "  91,\n",
       "  56,\n",
       "  168,\n",
       "  126,\n",
       "  91,\n",
       "  35,\n",
       "  91,\n",
       "  98,\n",
       "  77,\n",
       "  133,\n",
       "  70,\n",
       "  168,\n",
       "  14,\n",
       "  49,\n",
       "  63,\n",
       "  238,\n",
       "  161,\n",
       "  224,\n",
       "  154,\n",
       "  175,\n",
       "  84,\n",
       "  0,\n",
       "  77,\n",
       "  273,\n",
       "  126,\n",
       "  252,\n",
       "  161,\n",
       "  231,\n",
       "  98,\n",
       "  98,\n",
       "  98,\n",
       "  84,\n",
       "  91,\n",
       "  63,\n",
       "  63,\n",
       "  126,\n",
       "  84,\n",
       "  98,\n",
       "  77,\n",
       "  217,\n",
       "  28,\n",
       "  91,\n",
       "  154,\n",
       "  189,\n",
       "  231,\n",
       "  91,\n",
       "  77,\n",
       "  189,\n",
       "  77,\n",
       "  322,\n",
       "  119,\n",
       "  49,\n",
       "  35,\n",
       "  231,\n",
       "  105,\n",
       "  203,\n",
       "  28,\n",
       "  63,\n",
       "  63,\n",
       "  56,\n",
       "  161,\n",
       "  112,\n",
       "  91,\n",
       "  168,\n",
       "  91,\n",
       "  294,\n",
       "  119,\n",
       "  35,\n",
       "  126,\n",
       "  35,\n",
       "  63,\n",
       "  21,\n",
       "  126,\n",
       "  147,\n",
       "  84,\n",
       "  119,\n",
       "  49,\n",
       "  77,\n",
       "  112,\n",
       "  119,\n",
       "  35,\n",
       "  126,\n",
       "  28,\n",
       "  196],\n",
       " 116.76,\n",
       " (106.9694021142467, 126.5505978857533))"
      ]
     },
     "execution_count": 7,
     "metadata": {},
     "output_type": "execute_result"
    }
   ],
   "source": []
  },
  {
   "cell_type": "code",
   "execution_count": 12,
   "metadata": {},
   "outputs": [
    {
     "data": {
      "text/plain": [
       "[]"
      ]
     },
     "execution_count": 12,
     "metadata": {},
     "output_type": "execute_result"
    }
   ],
   "source": [
    "\n",
    "test.state_from_ward([PatientState.REJECTED], [WardType.B])"
   ]
  },
  {
   "cell_type": "code",
   "execution_count": 5,
   "metadata": {},
   "outputs": [
    {
     "name": "stdout",
     "output_type": "stream",
     "text": [
      "100/100\r"
     ]
    }
   ],
   "source": [
    "res = hsim.sim_multiple_year(100)"
   ]
  },
  {
   "cell_type": "code",
   "execution_count": 8,
   "metadata": {},
   "outputs": [
    {
     "name": "stderr",
     "output_type": "stream",
     "text": [
      "/home/simon/anaconda3/envs/StochSim/lib/python3.10/site-packages/scipy/stats/_distn_infrastructure.py:2128: RuntimeWarning: invalid value encountered in multiply\n",
      "  lower_bound = _a * scale + loc\n",
      "/home/simon/anaconda3/envs/StochSim/lib/python3.10/site-packages/scipy/stats/_distn_infrastructure.py:2129: RuntimeWarning: invalid value encountered in multiply\n",
      "  upper_bound = _b * scale + loc\n"
     ]
    },
    {
     "data": {
      "text/plain": [
       "([0.0,\n",
       "  0.0,\n",
       "  0.0,\n",
       "  0.0,\n",
       "  0.0,\n",
       "  0.0,\n",
       "  0.0,\n",
       "  0.0,\n",
       "  0.0,\n",
       "  0.0,\n",
       "  0.0,\n",
       "  0.0,\n",
       "  0.0,\n",
       "  0.0,\n",
       "  0.0,\n",
       "  0.0,\n",
       "  0.0,\n",
       "  0.0,\n",
       "  0.0,\n",
       "  0.0,\n",
       "  0.0,\n",
       "  0.0,\n",
       "  0.0,\n",
       "  0.0,\n",
       "  0.0,\n",
       "  0.0,\n",
       "  0.0,\n",
       "  0.0,\n",
       "  0.0,\n",
       "  0.0,\n",
       "  0.0,\n",
       "  0.0,\n",
       "  0.0,\n",
       "  0.0,\n",
       "  0.0,\n",
       "  0.0,\n",
       "  0.0,\n",
       "  0.0,\n",
       "  0.0,\n",
       "  0.0,\n",
       "  0.0,\n",
       "  0.0,\n",
       "  0.0,\n",
       "  0.0,\n",
       "  0.0,\n",
       "  0.0,\n",
       "  0.0,\n",
       "  0.0,\n",
       "  0.0,\n",
       "  0.0,\n",
       "  0.0,\n",
       "  0.0,\n",
       "  0.0,\n",
       "  0.0,\n",
       "  0.0,\n",
       "  0.0,\n",
       "  0.0,\n",
       "  0.0,\n",
       "  0.0,\n",
       "  0.0,\n",
       "  0.0,\n",
       "  0.0,\n",
       "  0.0,\n",
       "  0.0,\n",
       "  0.0,\n",
       "  0.0,\n",
       "  0.0,\n",
       "  0.0,\n",
       "  0.0,\n",
       "  0.0,\n",
       "  0.0,\n",
       "  0.0,\n",
       "  0.0,\n",
       "  0.0,\n",
       "  0.0,\n",
       "  0.0,\n",
       "  0.0,\n",
       "  0.0,\n",
       "  0.0,\n",
       "  0.0,\n",
       "  0.0,\n",
       "  0.0,\n",
       "  0.0,\n",
       "  0.0,\n",
       "  0.0,\n",
       "  0.0,\n",
       "  0.0,\n",
       "  0.0,\n",
       "  0.0,\n",
       "  0.0,\n",
       "  0.0,\n",
       "  0.0,\n",
       "  0.0,\n",
       "  0.0,\n",
       "  0.0,\n",
       "  0.0,\n",
       "  0.0,\n",
       "  0.0,\n",
       "  0.0,\n",
       "  0.0],\n",
       " 0.0,\n",
       " (nan, nan))"
      ]
     },
     "execution_count": 8,
     "metadata": {},
     "output_type": "execute_result"
    }
   ],
   "source": [
    "state = [PatientState.REJECTED, PatientState.IN_WRONG_YARD]\n",
    "res.state_pct_distribution(state, [WardType.A])"
   ]
  },
  {
   "cell_type": "code",
   "execution_count": 6,
   "metadata": {},
   "outputs": [],
   "source": [
    "## Example of setting bed distribution, individually and alltogether\n",
    "hsim.ward_configs[WardType.A].bed_capacity = 40\n",
    "hsim.ward_configs.bed_distribution = [100, 40, 10, 10, 10, 0]\n",
    "\n",
    "## Example setting new distributions\n",
    "def mean_lognorm_sd2(mean_time):\n",
    "    s = 2/mean_time**2\n",
    "    mu = mean_time * np.exp(-s**2/2)\n",
    "    return stats.lognorm(scale=mu, s=np.sqrt(s)).rvs()\n",
    "\n",
    "hsim.stay_dist = mean_lognorm_sd2\n"
   ]
  },
  {
   "cell_type": "code",
   "execution_count": 10,
   "metadata": {},
   "outputs": [
    {
     "name": "stdout",
     "output_type": "stream",
     "text": [
      "100%\r"
     ]
    }
   ],
   "source": [
    "hsim.simulate_year()"
   ]
  },
  {
   "cell_type": "code",
   "execution_count": 12,
   "metadata": {},
   "outputs": [
    {
     "data": {
      "text/plain": [
       "0.9308980213089803"
      ]
     },
     "execution_count": 12,
     "metadata": {},
     "output_type": "execute_result"
    }
   ],
   "source": [
    "hsim.wards[WardType.E].rejected_fraction"
   ]
  },
  {
   "cell_type": "markdown",
   "metadata": {},
   "source": []
  },
  {
   "cell_type": "code",
   "execution_count": 14,
   "metadata": {},
   "outputs": [
    {
     "name": "stdout",
     "output_type": "stream",
     "text": [
      "100%\r"
     ]
    },
    {
     "data": {
      "text/plain": [
       "[<src.assignment2.simulation.SimulationResult at 0x7f912cd2ff70>,\n",
       " <src.assignment2.simulation.SimulationResult at 0x7f912c258ca0>,\n",
       " <src.assignment2.simulation.SimulationResult at 0x7f912b98bfd0>,\n",
       " <src.assignment2.simulation.SimulationResult at 0x7f912b134760>,\n",
       " <src.assignment2.simulation.SimulationResult at 0x7f912a692050>,\n",
       " <src.assignment2.simulation.SimulationResult at 0x7f9129df3790>,\n",
       " <src.assignment2.simulation.SimulationResult at 0x7f912936a860>,\n",
       " <src.assignment2.simulation.SimulationResult at 0x7f9128ac7610>,\n",
       " <src.assignment2.simulation.SimulationResult at 0x7f9128217dc0>,\n",
       " <src.assignment2.simulation.SimulationResult at 0x7f91277b8190>]"
      ]
     },
     "execution_count": 14,
     "metadata": {},
     "output_type": "execute_result"
    }
   ],
   "source": [
    "[hsim.simulate_year() for _ in range(10)]"
   ]
  },
  {
   "cell_type": "code",
   "execution_count": null,
   "metadata": {},
   "outputs": [],
   "source": []
  }
 ],
 "metadata": {
  "interpreter": {
   "hash": "c2b9b044514c32f8ae709160d3d0e899e3a72e96e6170774076ba8cd4ed5b057"
  },
  "kernelspec": {
   "display_name": "Python 3.10.4 ('StochSim')",
   "language": "python",
   "name": "python3"
  },
  "language_info": {
   "codemirror_mode": {
    "name": "ipython",
    "version": 3
   },
   "file_extension": ".py",
   "mimetype": "text/x-python",
   "name": "python",
   "nbconvert_exporter": "python",
   "pygments_lexer": "ipython3",
   "version": "3.10.4"
  },
  "orig_nbformat": 4
 },
 "nbformat": 4,
 "nbformat_minor": 2
}
