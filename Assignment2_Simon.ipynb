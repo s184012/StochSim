{
 "cells": [
  {
   "cell_type": "code",
   "execution_count": 8,
   "metadata": {},
   "outputs": [
    {
     "name": "stdout",
     "output_type": "stream",
     "text": [
      "The autoreload extension is already loaded. To reload it, use:\n",
      "  %reload_ext autoreload\n"
     ]
    }
   ],
   "source": [
    "%load_ext autoreload\n",
    "%autoreload 2"
   ]
  },
  {
   "cell_type": "code",
   "execution_count": 9,
   "metadata": {},
   "outputs": [],
   "source": [
    "from src.assignment2.simulation import HospitalSimulation, PatientState, WardType, WardConfig, WardsConfigurations, HospitalConfiguration\n",
    "from scipy import stats\n",
    "import numpy as np\n",
    "import seaborn as sns\n"
   ]
  },
  {
   "cell_type": "code",
   "execution_count": 10,
   "metadata": {},
   "outputs": [],
   "source": [
    "\n",
    "configs = [\n",
    "    WardConfig(bed_capacity=55, urgency=7, mean_arrival_time=1/14.5, \n",
    "        mean_stay_time=2.9),\n",
    "    WardConfig(40, 5, 1/11, 4),\n",
    "    WardConfig(30, 2, 1/8, 4.5),\n",
    "    WardConfig(20, 10, 1/6.5, 1.4),\n",
    "    WardConfig(20, 5, 1/5, 3.9),\n",
    "    WardConfig(0, 0, 1/13, 2.2)\n",
    "]\n",
    "\n",
    "configs_nof = configs.copy()\n",
    "del configs_nof[-1]\n",
    "\n",
    "std_configs = WardsConfigurations(configs)\n",
    "std_switch = {\n",
    "    WardType.A: [0.0, 0.05, 0.10, 0.05, 0.80, 0.0],\n",
    "    WardType.B: [0.20, 0.0, 0.50, 0.15, 0.15, 0.0],\n",
    "    WardType.C: [0.30, 0.20, 0.0, 0.20, 0.30, 0.0],\n",
    "    WardType.D: [0.35, 0.30, 0.05, 0.0, 0.30, 0.0],\n",
    "    WardType.E: [0.20, 0.10, 0.60, 0.10, 0.0, 0.0],\n",
    "    WardType.F: [0.20, 0.20, 0.20, 0.20, 0.20, 0.0]\n",
    "}\n",
    "\n",
    "def mean_exp_dist(mean_time):\n",
    "    return stats.expon.rvs(scale=mean_time)\n",
    "\n",
    "sim_config = HospitalConfiguration(std_configs, std_switch, mean_exp_dist, mean_exp_dist)\n",
    "hsim = HospitalSimulation(sim_config)"
   ]
  },
  {
   "cell_type": "code",
   "execution_count": 11,
   "metadata": {},
   "outputs": [
    {
     "name": "stdout",
     "output_type": "stream",
     "text": [
      "10/10\r"
     ]
    }
   ],
   "source": [
    "result_withoutf = hsim.sim_multiple_nof(100)\n",
    "result_withf = hsim.sim_multiple_year(100)\n"
   ]
  },
  {
   "cell_type": "code",
   "execution_count": 12,
   "metadata": {},
   "outputs": [
    {
     "ename": "AttributeError",
     "evalue": "'SimulationsSummary' object has no attribute 'expected_penalty_from_wards'",
     "output_type": "error",
     "traceback": [
      "\u001b[0;31m---------------------------------------------------------------------------\u001b[0m",
      "\u001b[0;31mAttributeError\u001b[0m                            Traceback (most recent call last)",
      "\u001b[1;32m/home/simon/Code/StochSim/Assignment2_Simon.ipynb Cell 5'\u001b[0m in \u001b[0;36m<cell line: 7>\u001b[0;34m()\u001b[0m\n\u001b[1;32m      <a href='vscode-notebook-cell:/home/simon/Code/StochSim/Assignment2_Simon.ipynb#ch0000004?line=2'>3</a>\u001b[0m number_of_admissions \u001b[39m=\u001b[39m result\u001b[39m.\u001b[39mnumber_of_state_in_ward([PatientState\u001b[39m.\u001b[39mIN_CORRECT_WARD], [WardType\u001b[39m.\u001b[39mD])\n\u001b[1;32m      <a href='vscode-notebook-cell:/home/simon/Code/StochSim/Assignment2_Simon.ipynb#ch0000004?line=4'>5</a>\u001b[0m number_of_relocated \u001b[39m=\u001b[39m result\u001b[39m.\u001b[39mnumber_of_state_from_ward([PatientState\u001b[39m.\u001b[39mREJECTED, PatientState\u001b[39m.\u001b[39mIN_WRONG_WARD], [WardType\u001b[39m.\u001b[39mC])\n\u001b[0;32m----> <a href='vscode-notebook-cell:/home/simon/Code/StochSim/Assignment2_Simon.ipynb#ch0000004?line=6'>7</a>\u001b[0m penalty \u001b[39m=\u001b[39m result\u001b[39m.\u001b[39;49mexpected_penalty_from_wards(WardType\u001b[39m.\u001b[39mA)\n",
      "\u001b[0;31mAttributeError\u001b[0m: 'SimulationsSummary' object has no attribute 'expected_penalty_from_wards'"
     ]
    }
   ],
   "source": [
    "\n"
   ]
  },
  {
   "cell_type": "code",
   "execution_count": null,
   "metadata": {},
   "outputs": [
    {
     "data": {
      "text/html": [
       "<div>\n",
       "<style scoped>\n",
       "    .dataframe tbody tr th:only-of-type {\n",
       "        vertical-align: middle;\n",
       "    }\n",
       "\n",
       "    .dataframe tbody tr th {\n",
       "        vertical-align: top;\n",
       "    }\n",
       "\n",
       "    .dataframe thead th {\n",
       "        text-align: right;\n",
       "    }\n",
       "</style>\n",
       "<table border=\"1\" class=\"dataframe\">\n",
       "  <thead>\n",
       "    <tr style=\"text-align: right;\">\n",
       "      <th></th>\n",
       "      <th>mean</th>\n",
       "      <th>lwr</th>\n",
       "      <th>upr</th>\n",
       "    </tr>\n",
       "  </thead>\n",
       "  <tbody>\n",
       "    <tr>\n",
       "      <th>A</th>\n",
       "      <td>5273.3</td>\n",
       "      <td>5254.742942</td>\n",
       "      <td>5291.857058</td>\n",
       "    </tr>\n",
       "    <tr>\n",
       "      <th>B</th>\n",
       "      <td>649.2</td>\n",
       "      <td>616.540129</td>\n",
       "      <td>681.859871</td>\n",
       "    </tr>\n",
       "    <tr>\n",
       "      <th>C</th>\n",
       "      <td>23.9</td>\n",
       "      <td>22.284121</td>\n",
       "      <td>25.515879</td>\n",
       "    </tr>\n",
       "    <tr>\n",
       "      <th>D</th>\n",
       "      <td>2350.6</td>\n",
       "      <td>2330.422522</td>\n",
       "      <td>2370.777478</td>\n",
       "    </tr>\n",
       "    <tr>\n",
       "      <th>E</th>\n",
       "      <td>144.6</td>\n",
       "      <td>136.402237</td>\n",
       "      <td>152.797763</td>\n",
       "    </tr>\n",
       "    <tr>\n",
       "      <th>F</th>\n",
       "      <td>4505.1</td>\n",
       "      <td>4487.314107</td>\n",
       "      <td>4522.885893</td>\n",
       "    </tr>\n",
       "  </tbody>\n",
       "</table>\n",
       "</div>"
      ],
      "text/plain": [
       "     mean          lwr          upr\n",
       "A  5273.3  5254.742942  5291.857058\n",
       "B   649.2   616.540129   681.859871\n",
       "C    23.9    22.284121    25.515879\n",
       "D  2350.6  2330.422522  2370.777478\n",
       "E   144.6   136.402237   152.797763\n",
       "F  4505.1  4487.314107  4522.885893"
      ]
     },
     "execution_count": 6,
     "metadata": {},
     "output_type": "execute_result"
    }
   ],
   "source": [
    "result.expected_admissions(list(WardType))"
   ]
  },
  {
   "cell_type": "code",
   "execution_count": null,
   "metadata": {},
   "outputs": [
    {
     "data": {
      "text/html": [
       "<div>\n",
       "<style scoped>\n",
       "    .dataframe tbody tr th:only-of-type {\n",
       "        vertical-align: middle;\n",
       "    }\n",
       "\n",
       "    .dataframe tbody tr th {\n",
       "        vertical-align: top;\n",
       "    }\n",
       "\n",
       "    .dataframe thead th {\n",
       "        text-align: right;\n",
       "    }\n",
       "</style>\n",
       "<table border=\"1\" class=\"dataframe\">\n",
       "  <thead>\n",
       "    <tr style=\"text-align: right;\">\n",
       "      <th></th>\n",
       "      <th>mean</th>\n",
       "      <th>lwr</th>\n",
       "      <th>upr</th>\n",
       "    </tr>\n",
       "  </thead>\n",
       "  <tbody>\n",
       "    <tr>\n",
       "      <th>A</th>\n",
       "      <td>12.8</td>\n",
       "      <td>9.509573</td>\n",
       "      <td>16.090427</td>\n",
       "    </tr>\n",
       "    <tr>\n",
       "      <th>B</th>\n",
       "      <td>3347.9</td>\n",
       "      <td>3309.887551</td>\n",
       "      <td>3385.912449</td>\n",
       "    </tr>\n",
       "    <tr>\n",
       "      <th>C</th>\n",
       "      <td>2912.7</td>\n",
       "      <td>2891.329900</td>\n",
       "      <td>2934.070100</td>\n",
       "    </tr>\n",
       "    <tr>\n",
       "      <th>D</th>\n",
       "      <td>0.2</td>\n",
       "      <td>-0.480781</td>\n",
       "      <td>0.880781</td>\n",
       "    </tr>\n",
       "    <tr>\n",
       "      <th>E</th>\n",
       "      <td>1697.2</td>\n",
       "      <td>1686.131716</td>\n",
       "      <td>1708.268284</td>\n",
       "    </tr>\n",
       "    <tr>\n",
       "      <th>F</th>\n",
       "      <td>236.5</td>\n",
       "      <td>235.524791</td>\n",
       "      <td>237.475209</td>\n",
       "    </tr>\n",
       "  </tbody>\n",
       "</table>\n",
       "</div>"
      ],
      "text/plain": [
       "     mean          lwr          upr\n",
       "A    12.8     9.509573    16.090427\n",
       "B  3347.9  3309.887551  3385.912449\n",
       "C  2912.7  2891.329900  2934.070100\n",
       "D     0.2    -0.480781     0.880781\n",
       "E  1697.2  1686.131716  1708.268284\n",
       "F   236.5   235.524791   237.475209"
      ]
     },
     "execution_count": 7,
     "metadata": {},
     "output_type": "execute_result"
    }
   ],
   "source": [
    "result.expected_relocations(list(WardType))"
   ]
  },
  {
   "cell_type": "code",
   "execution_count": 13,
   "metadata": {},
   "outputs": [
    {
     "name": "stderr",
     "output_type": "stream",
     "text": [
      "/home/simon/anaconda3/envs/StochSim/lib/python3.10/site-packages/scipy/stats/_distn_infrastructure.py:2128: RuntimeWarning: invalid value encountered in multiply\n",
      "  lower_bound = _a * scale + loc\n",
      "/home/simon/anaconda3/envs/StochSim/lib/python3.10/site-packages/scipy/stats/_distn_infrastructure.py:2129: RuntimeWarning: invalid value encountered in multiply\n",
      "  upper_bound = _b * scale + loc\n"
     ]
    },
    {
     "data": {
      "text/html": [
       "<div>\n",
       "<style scoped>\n",
       "    .dataframe tbody tr th:only-of-type {\n",
       "        vertical-align: middle;\n",
       "    }\n",
       "\n",
       "    .dataframe tbody tr th {\n",
       "        vertical-align: top;\n",
       "    }\n",
       "\n",
       "    .dataframe thead th {\n",
       "        text-align: right;\n",
       "    }\n",
       "</style>\n",
       "<table border=\"1\" class=\"dataframe\">\n",
       "  <thead>\n",
       "    <tr style=\"text-align: right;\">\n",
       "      <th></th>\n",
       "      <th>mean</th>\n",
       "      <th>lwr</th>\n",
       "      <th>upr</th>\n",
       "    </tr>\n",
       "  </thead>\n",
       "  <tbody>\n",
       "    <tr>\n",
       "      <th>A</th>\n",
       "      <td>154.0</td>\n",
       "      <td>129.232250</td>\n",
       "      <td>178.767750</td>\n",
       "    </tr>\n",
       "    <tr>\n",
       "      <th>B</th>\n",
       "      <td>16622.5</td>\n",
       "      <td>16367.362153</td>\n",
       "      <td>16877.637847</td>\n",
       "    </tr>\n",
       "    <tr>\n",
       "      <th>C</th>\n",
       "      <td>5792.6</td>\n",
       "      <td>5750.328270</td>\n",
       "      <td>5834.871730</td>\n",
       "    </tr>\n",
       "    <tr>\n",
       "      <th>D</th>\n",
       "      <td>0.0</td>\n",
       "      <td>NaN</td>\n",
       "      <td>NaN</td>\n",
       "    </tr>\n",
       "    <tr>\n",
       "      <th>E</th>\n",
       "      <td>8477.5</td>\n",
       "      <td>8362.735000</td>\n",
       "      <td>8592.265000</td>\n",
       "    </tr>\n",
       "    <tr>\n",
       "      <th>F</th>\n",
       "      <td>0.0</td>\n",
       "      <td>NaN</td>\n",
       "      <td>NaN</td>\n",
       "    </tr>\n",
       "  </tbody>\n",
       "</table>\n",
       "</div>"
      ],
      "text/plain": [
       "      mean           lwr           upr\n",
       "A    154.0    129.232250    178.767750\n",
       "B  16622.5  16367.362153  16877.637847\n",
       "C   5792.6   5750.328270   5834.871730\n",
       "D      0.0           NaN           NaN\n",
       "E   8477.5   8362.735000   8592.265000\n",
       "F      0.0           NaN           NaN"
      ]
     },
     "execution_count": 13,
     "metadata": {},
     "output_type": "execute_result"
    }
   ],
   "source": [
    "result.expected_penalty()"
   ]
  },
  {
   "cell_type": "code",
   "execution_count": 6,
   "metadata": {},
   "outputs": [],
   "source": [
    "## Example of setting bed distribution, individually and alltogether\n",
    "hsim.ward_configs[WardType.A].bed_capacity = 40\n",
    "hsim.ward_configs.bed_distribution = [100, 40, 10, 10, 10, 0]\n",
    "\n",
    "## Example setting new distributions\n",
    "def mean_lognorm_sd2(mean_time):\n",
    "    s = 2/mean_time**2\n",
    "    mu = mean_time * np.exp(-s**2/2)\n",
    "    return stats.lognorm(scale=mu, s=np.sqrt(s)).rvs()\n",
    "\n",
    "hsim.stay_dist = mean_lognorm_sd2\n"
   ]
  }
 ],
 "metadata": {
  "interpreter": {
   "hash": "c2b9b044514c32f8ae709160d3d0e899e3a72e96e6170774076ba8cd4ed5b057"
  },
  "kernelspec": {
   "display_name": "Python 3.10.4 ('StochSim')",
   "language": "python",
   "name": "python3"
  },
  "language_info": {
   "codemirror_mode": {
    "name": "ipython",
    "version": 3
   },
   "file_extension": ".py",
   "mimetype": "text/x-python",
   "name": "python",
   "nbconvert_exporter": "python",
   "pygments_lexer": "ipython3",
   "version": "3.10.4"
  },
  "orig_nbformat": 4
 },
 "nbformat": 4,
 "nbformat_minor": 2
}
