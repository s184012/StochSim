{
 "cells": [
  {
   "cell_type": "code",
   "execution_count": 1,
   "metadata": {},
   "outputs": [],
   "source": [
    "%load_ext autoreload\n",
    "%autoreload 2"
   ]
  },
  {
   "cell_type": "code",
   "execution_count": 2,
   "metadata": {},
   "outputs": [],
   "source": [
    "from src.assignment2.simulation import HospitalSimulation, PatientState, WardType, WardConfig, WardsConfigurations, HospitalConfiguration\n",
    "from scipy import stats\n",
    "import numpy as np\n"
   ]
  },
  {
   "cell_type": "code",
   "execution_count": 3,
   "metadata": {},
   "outputs": [],
   "source": [
    "\n",
    "P = np.zeros([6,6])\n",
    "P[0, :] = [0.0, 0.05, 0.10, 0.05, 0.80, 0.0]\n",
    "P[1, :] = [0.20, 0.0, 0.50, 0.15, 0.15, 0.0]\n",
    "P[2, :] = [0.30, 0.20, 0.0, 0.20, 0.30, 0.0]\n",
    "P[3, :] = [0.35, 0.30, 0.05, 0.0, 0.30, 0.0]\n",
    "P[4, :] = [0.20, 0.10, 0.60, 0.10, 0.0, 0.0] \n",
    "P[5, :] = [0.20, 0.20, 0.20, 0.20, 0.20, 0.0]\n",
    "\n",
    "arr_Times = [14.5, 11.0, 8.0, 6.5, 5.0, 13.0]\n",
    "\n",
    "len_stay = [2.9, 4.0, 4.5, 1.4, 3.9, 2.2]\n",
    "\n",
    "urgency = [7, 5, 2, 10, 5, 0]\n",
    "\n",
    "bed_capacity = [55, 40, 30, 20, 20, 0]\n"
   ]
  },
  {
   "cell_type": "code",
   "execution_count": 4,
   "metadata": {},
   "outputs": [],
   "source": [
    "\n",
    "configs = [\n",
    "    WardConfig(bed_capacity=55, urgency=7, mean_arrival_time=1/14.5, \n",
    "        mean_stay_time=2.9),\n",
    "    WardConfig(40, 5, 1/11, 4),\n",
    "    WardConfig(30, 2, 1/8, 4.5),\n",
    "    WardConfig(20, 10, 1/6.5, 1.4),\n",
    "    WardConfig(20, 5, 1/5, 3.9),\n",
    "    WardConfig(0, 0, 1/13, 2.2)\n",
    "]\n",
    "\n",
    "configs_nof = configs.copy()\n",
    "del configs_nof[-1]\n",
    "\n",
    "std_configs = WardsConfigurations(configs)\n",
    "std_switch = {\n",
    "    WardType.A: [0.0, 0.05, 0.10, 0.05, 0.80, 0.0],\n",
    "    WardType.B: [0.20, 0.0, 0.50, 0.15, 0.15, 0.0],\n",
    "    WardType.C: [0.30, 0.20, 0.0, 0.20, 0.30, 0.0],\n",
    "    WardType.D: [0.35, 0.30, 0.05, 0.0, 0.30, 0.0],\n",
    "    WardType.E: [0.20, 0.10, 0.60, 0.10, 0.0, 0.0],\n",
    "    WardType.F: [0.20, 0.20, 0.20, 0.20, 0.20, 0.0]\n",
    "}\n",
    "\n",
    "def mean_exp_dist(mean_time):\n",
    "    return stats.expon.rvs(scale=mean_time)\n",
    "\n",
    "sim_config = HospitalConfiguration(std_configs, std_switch, mean_exp_dist, mean_exp_dist)\n",
    "hsim = HospitalSimulation(sim_config)"
   ]
  },
  {
   "cell_type": "markdown",
   "metadata": {},
   "source": []
  },
  {
   "cell_type": "code",
   "execution_count": null,
   "metadata": {},
   "outputs": [],
   "source": [
    "hsim.simulate_year(display=False)\n",
    "hsim.total_penalty"
   ]
  },
  {
   "cell_type": "code",
   "execution_count": 47,
   "metadata": {},
   "outputs": [
    {
     "data": {
      "text/plain": [
       "0.04982499485278979"
      ]
     },
     "execution_count": 47,
     "metadata": {},
     "output_type": "execute_result"
    }
   ],
   "source": [
    "hsim.wards[WardType.F].rejected_fraction"
   ]
  },
  {
   "cell_type": "code",
   "execution_count": 6,
   "metadata": {},
   "outputs": [],
   "source": [
    "## Example of setting bed distribution, individually and alltogether\n",
    "hsim.ward_configs[WardType.A].bed_capacity = 40\n",
    "hsim.ward_configs.bed_distribution = [100, 40, 10, 10, 10, 0]\n",
    "\n",
    "## Example setting new distributions\n",
    "def mean_lognorm_sd2(mean_time):\n",
    "    s = 2/mean_time**2\n",
    "    mu = mean_time * np.exp(-s**2/2)\n",
    "    return stats.lognorm(scale=mu, s=np.sqrt(s)).rvs()\n",
    "\n",
    "hsim.stay_dist = mean_lognorm_sd2\n"
   ]
  },
  {
   "cell_type": "code",
   "execution_count": 10,
   "metadata": {},
   "outputs": [
    {
     "name": "stdout",
     "output_type": "stream",
     "text": [
      "100%\r"
     ]
    }
   ],
   "source": [
    "hsim.simulate_year()"
   ]
  },
  {
   "cell_type": "code",
   "execution_count": 12,
   "metadata": {},
   "outputs": [
    {
     "data": {
      "text/plain": [
       "0.9308980213089803"
      ]
     },
     "execution_count": 12,
     "metadata": {},
     "output_type": "execute_result"
    }
   ],
   "source": [
    "hsim.wards[WardType.E].rejected_fraction"
   ]
  },
  {
   "cell_type": "markdown",
   "metadata": {},
   "source": []
  },
  {
   "cell_type": "code",
   "execution_count": 11,
   "metadata": {},
   "outputs": [
    {
     "data": {
      "text/plain": [
       "[WardConfig(bed_capacity=100, urgency=7, mean_arrival_time=0.06896551724137931, mean_stay_time=2.9),\n",
       " WardConfig(bed_capacity=40, urgency=5, mean_arrival_time=0.09090909090909091, mean_stay_time=4),\n",
       " WardConfig(bed_capacity=10, urgency=2, mean_arrival_time=0.125, mean_stay_time=4.5),\n",
       " WardConfig(bed_capacity=10, urgency=10, mean_arrival_time=0.15384615384615385, mean_stay_time=1.4),\n",
       " WardConfig(bed_capacity=10, urgency=5, mean_arrival_time=0.2, mean_stay_time=3.9)]"
      ]
     },
     "execution_count": 11,
     "metadata": {},
     "output_type": "execute_result"
    }
   ],
   "source": [
    "nof_sim.ward_configs"
   ]
  },
  {
   "cell_type": "code",
   "execution_count": null,
   "metadata": {},
   "outputs": [],
   "source": []
  }
 ],
 "metadata": {
  "interpreter": {
   "hash": "c2b9b044514c32f8ae709160d3d0e899e3a72e96e6170774076ba8cd4ed5b057"
  },
  "kernelspec": {
   "display_name": "Python 3.10.4 ('StochSim')",
   "language": "python",
   "name": "python3"
  },
  "language_info": {
   "codemirror_mode": {
    "name": "ipython",
    "version": 3
   },
   "file_extension": ".py",
   "mimetype": "text/x-python",
   "name": "python",
   "nbconvert_exporter": "python",
   "pygments_lexer": "ipython3",
   "version": "3.10.4"
  },
  "orig_nbformat": 4
 },
 "nbformat": 4,
 "nbformat_minor": 2
}
