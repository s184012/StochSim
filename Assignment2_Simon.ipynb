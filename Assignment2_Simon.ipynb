{
 "cells": [
  {
   "cell_type": "code",
   "execution_count": 25,
   "metadata": {},
   "outputs": [
    {
     "name": "stdout",
     "output_type": "stream",
     "text": [
      "The autoreload extension is already loaded. To reload it, use:\n",
      "  %reload_ext autoreload\n"
     ]
    }
   ],
   "source": [
    "%load_ext autoreload\n",
    "%autoreload 2"
   ]
  },
  {
   "cell_type": "code",
   "execution_count": 31,
   "metadata": {},
   "outputs": [],
   "source": [
    "from src.assignment2.simulation import HospitalSimulation, PatientType, WardType\n",
    "from scipy import stats\n",
    "\n"
   ]
  },
  {
   "cell_type": "code",
   "execution_count": 32,
   "metadata": {},
   "outputs": [],
   "source": [
    "\n",
    "arr_Times = [14.5, 11.0, 8.0, 6.5, 5.0, 13.0]\n",
    "len_stay = [2.9, 4.0, 4.5, 1.4, 3.9, 2.2]\n",
    "\n",
    "H_Sim = HospitalSimulation(stats.expon, stats.expon)"
   ]
  },
  {
   "cell_type": "code",
   "execution_count": 33,
   "metadata": {},
   "outputs": [
    {
     "name": "stdout",
     "output_type": "stream",
     "text": [
      "[(10.424568234356444, Patient(type=<PatientType.A: 0>, ward=<WardType.A: 0>, penalty=7, arrival_time=0.0633551411277104, stay_time=10.361213093228734))]\n",
      "[(1.9943957462715227, Patient(type=<PatientType.C: 2>, ward=<WardType.C: 2>, penalty=2, arrival_time=0.008859349773458947, stay_time=1.9855363964980637))]\n",
      "[(1.145795813223869, Patient(type=<PatientType.B: 1>, ward=<WardType.B: 1>, penalty=5, arrival_time=0.0738947725371389, stay_time=1.0719010406867302))]\n",
      "[(1.6121897406728092, Patient(type=<PatientType.A: 0>, ward=<WardType.A: 0>, penalty=7, arrival_time=0.07615873299525819, stay_time=1.536031007677551)), (10.424568234356444, Patient(type=<PatientType.A: 0>, ward=<WardType.A: 0>, penalty=7, arrival_time=0.0633551411277104, stay_time=10.361213093228734))]\n",
      "[(1.883771226150668, Patient(type=<PatientType.C: 2>, ward=<WardType.C: 2>, penalty=2, arrival_time=0.08731579122150371, stay_time=1.7964554349291644)), (1.9943957462715227, Patient(type=<PatientType.C: 2>, ward=<WardType.C: 2>, penalty=2, arrival_time=0.008859349773458947, stay_time=1.9855363964980637))]\n",
      "[(0.48484554257522144, Patient(type=<PatientType.D: 3>, ward=<WardType.D: 3>, penalty=10, arrival_time=0.13275789697529983, stay_time=0.3520876455999216))]\n",
      "Unexpected exception formatting exception. Falling back to standard exception\n"
     ]
    },
    {
     "name": "stderr",
     "output_type": "stream",
     "text": [
      "Traceback (most recent call last):\n",
      "  File \"/home/simon/anaconda3/envs/StochSim/lib/python3.10/site-packages/IPython/core/interactiveshell.py\", line 3397, in run_code\n",
      "    exec(code_obj, self.user_global_ns, self.user_ns)\n",
      "  File \"/tmp/ipykernel_32479/490656317.py\", line 1, in <cell line: 1>\n",
      "    H_Sim.simulate_year()\n",
      "  File \"/home/simon/Code/StochSim/src/assignment2/simulation.py\", line 143, in simulate_year\n",
      "    self.assign_patient_to_ward(patient, curTime=t)\n",
      "  File \"/home/simon/Code/StochSim/src/assignment2/simulation.py\", line 174, in assign_patient_to_ward\n",
      "    ward.update_patients(curTime = curTime)\n",
      "  File \"/home/simon/Code/StochSim/src/assignment2/simulation.py\", line 92, in update_patients\n",
      "    while self.patients[0][0] <= curTime:\n",
      "IndexError: list index out of range\n",
      "\n",
      "During handling of the above exception, another exception occurred:\n",
      "\n",
      "Traceback (most recent call last):\n",
      "  File \"/home/simon/anaconda3/envs/StochSim/lib/python3.10/site-packages/IPython/core/interactiveshell.py\", line 1992, in showtraceback\n",
      "    stb = self.InteractiveTB.structured_traceback(\n",
      "  File \"/home/simon/anaconda3/envs/StochSim/lib/python3.10/site-packages/IPython/core/ultratb.py\", line 1118, in structured_traceback\n",
      "    return FormattedTB.structured_traceback(\n",
      "  File \"/home/simon/anaconda3/envs/StochSim/lib/python3.10/site-packages/IPython/core/ultratb.py\", line 1012, in structured_traceback\n",
      "    return VerboseTB.structured_traceback(\n",
      "  File \"/home/simon/anaconda3/envs/StochSim/lib/python3.10/site-packages/IPython/core/ultratb.py\", line 865, in structured_traceback\n",
      "    formatted_exception = self.format_exception_as_a_whole(etype, evalue, etb, number_of_lines_of_context,\n",
      "  File \"/home/simon/anaconda3/envs/StochSim/lib/python3.10/site-packages/IPython/core/ultratb.py\", line 818, in format_exception_as_a_whole\n",
      "    frames.append(self.format_record(r))\n",
      "  File \"/home/simon/anaconda3/envs/StochSim/lib/python3.10/site-packages/IPython/core/ultratb.py\", line 736, in format_record\n",
      "    result += ''.join(_format_traceback_lines(frame_info.lines, Colors, self.has_colors, lvals))\n",
      "  File \"/home/simon/anaconda3/envs/StochSim/lib/python3.10/site-packages/stack_data/utils.py\", line 145, in cached_property_wrapper\n",
      "    value = obj.__dict__[self.func.__name__] = self.func(obj)\n",
      "  File \"/home/simon/anaconda3/envs/StochSim/lib/python3.10/site-packages/stack_data/core.py\", line 698, in lines\n",
      "    pieces = self.included_pieces\n",
      "  File \"/home/simon/anaconda3/envs/StochSim/lib/python3.10/site-packages/stack_data/utils.py\", line 145, in cached_property_wrapper\n",
      "    value = obj.__dict__[self.func.__name__] = self.func(obj)\n",
      "  File \"/home/simon/anaconda3/envs/StochSim/lib/python3.10/site-packages/stack_data/core.py\", line 649, in included_pieces\n",
      "    pos = scope_pieces.index(self.executing_piece)\n",
      "  File \"/home/simon/anaconda3/envs/StochSim/lib/python3.10/site-packages/stack_data/utils.py\", line 145, in cached_property_wrapper\n",
      "    value = obj.__dict__[self.func.__name__] = self.func(obj)\n",
      "  File \"/home/simon/anaconda3/envs/StochSim/lib/python3.10/site-packages/stack_data/core.py\", line 628, in executing_piece\n",
      "    return only(\n",
      "  File \"/home/simon/anaconda3/envs/StochSim/lib/python3.10/site-packages/executing/executing.py\", line 164, in only\n",
      "    raise NotOneValueFound('Expected one value, found 0')\n",
      "executing.executing.NotOneValueFound: Expected one value, found 0\n"
     ]
    }
   ],
   "source": [
    "H_Sim.simulate_year()"
   ]
  },
  {
   "cell_type": "code",
   "execution_count": 29,
   "metadata": {},
   "outputs": [
    {
     "data": {
      "text/plain": [
       "True"
      ]
     },
     "execution_count": 29,
     "metadata": {},
     "output_type": "execute_result"
    }
   ],
   "source": []
  },
  {
   "cell_type": "code",
   "execution_count": null,
   "metadata": {},
   "outputs": [],
   "source": []
  }
 ],
 "metadata": {
  "interpreter": {
   "hash": "c2b9b044514c32f8ae709160d3d0e899e3a72e96e6170774076ba8cd4ed5b057"
  },
  "kernelspec": {
   "display_name": "Python 3.10.4 ('StochSim')",
   "language": "python",
   "name": "python3"
  },
  "language_info": {
   "codemirror_mode": {
    "name": "ipython",
    "version": 3
   },
   "file_extension": ".py",
   "mimetype": "text/x-python",
   "name": "python",
   "nbconvert_exporter": "python",
   "pygments_lexer": "ipython3",
   "version": "3.10.4"
  },
  "orig_nbformat": 4
 },
 "nbformat": 4,
 "nbformat_minor": 2
}
